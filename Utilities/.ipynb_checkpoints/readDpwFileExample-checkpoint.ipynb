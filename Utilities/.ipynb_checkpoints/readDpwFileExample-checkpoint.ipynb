{
 "cells": [
  {
   "cell_type": "markdown",
   "metadata": {},
   "source": [
    "## Reading Potential Well Parameters from a DpwFile\n",
    ">>Version 1.1.\n",
    "August 17, 2020  \n",
    "Charlie Duke  \n",
    "Physics Department, Grinnell College\n",
    "\n",
    "This jupyter notebook creates a DataPotentialWell class instance with \n",
    "the well details read from a previously created .dpw file.  It uses the wavefunction to calculate expectation values for position and momentum along with their expected standard deviations for a comparison with the uncertainty principle.\n",
    "\n",
    "Execute this notebook in a subdirectory of the PotentialWell base directory, \n",
    "e.g. QuantumPotentialWell/Notebooks. \n",
    "\n",
    "This notebook makes use of a dpw file that includes a wavefunction.  \n",
    "Create your dpw file from the solver making sure that you can see a  \n",
    "graph of a wavefunction before writing the dpw file."
   ]
  },
  {
   "cell_type": "code",
   "execution_count": 1,
   "metadata": {
    "collapsed": false,
    "jupyter": {
     "outputs_hidden": false
    }
   },
   "outputs": [
    {
     "name": "stdout",
     "output_type": "stream",
     "text": [
      "Populating the interactive namespace from numpy and matplotlib\n"
     ]
    }
   ],
   "source": [
    "# import numpy and matplotlib modules. Execute %pylab? to see the details\n",
    "%pylab inline\n",
    "\n",
    "# DataPotential.py contains the potentialWell solver data class\n",
    "# Copy DataPotentialWell.py from the PotentialWell base directory to this directory.\n",
    "# I'll fix this later - path problems otherwise.\n",
    "!cp ../DataPotentialWell.py .\n",
    "from DataPotentialWell import *"
   ]
  },
  {
   "cell_type": "code",
   "execution_count": 16,
   "metadata": {
    "collapsed": false,
    "jupyter": {
     "outputs_hidden": false
    }
   },
   "outputs": [
    {
     "data": {
      "text/plain": [
       "<DataPotentialWell.DataPotentialWell at 0x7fe7139e5588>"
      ]
     },
     "execution_count": 16,
     "metadata": {},
     "output_type": "execute_result"
    }
   ],
   "source": [
    "# create an instance of the data class and read well parameters\n",
    "# contained in a .dpw file\n",
    "dpw1 = DataPotentialWell()\n",
    "\n",
    "# These dpw files are in the Notebooks directory\n",
    "# dpw21Aug.dpw file: single-barrier finite well with wavefunction \n",
    "# psi1.dpw file: single-barrier infinite well and the ground-state wavefunction.\n",
    "# psi2.dpw file: same well and the first-state wavefunction.\n",
    "\n",
    "dpw1.readDpwFile(\"psi1.dpw\")\n"
   ]
  },
  {
   "cell_type": "markdown",
   "metadata": {},
   "source": [
    "#### Use the tab key with cursor on dpw1. to see the list of attributes and methods of the DataPotentialWell class\n",
    "> $dpw1.<tab>$\n",
    "\n",
    "#### Use shift-tab to see the doc string and public methods for the class, additional shift-tab for more details\n",
    "> $dpw1<shift-tab> <shift-tab>$"
   ]
  },
  {
   "cell_type": "markdown",
   "metadata": {},
   "source": [
    "#### To obtain documentation on a public method (you should only use the public methods), use shift-tab on the name of the method. For example, place your cursor on getXArray and do shift-tab twice.\n",
    "> $dpw1.getXArray$"
   ]
  },
  {
   "cell_type": "code",
   "execution_count": 3,
   "metadata": {
    "collapsed": false,
    "jupyter": {
     "outputs_hidden": false
    }
   },
   "outputs": [
    {
     "data": {
      "text/plain": [
       "6.935564600702201"
      ]
     },
     "execution_count": 3,
     "metadata": {},
     "output_type": "execute_result"
    }
   ],
   "source": [
    "# look at some docstrings here as described above\n",
    "dpw1.getPsiEnergy()\n"
   ]
  },
  {
   "cell_type": "code",
   "execution_count": 4,
   "metadata": {
    "collapsed": false,
    "jupyter": {
     "outputs_hidden": false
    }
   },
   "outputs": [
    {
     "name": "stdout",
     "output_type": "stream",
     "text": [
      "x.shape (500,)\n",
      "v.shape (500,)\n"
     ]
    }
   ],
   "source": [
    "# get the x array and get the potential array using x and v as array variables\n",
    "x = dpw1.getXArray()\n",
    "v = dpw1.getVArray()\n",
    "# print the shape of these arrays\n",
    "print(\"x.shape\",x.shape)\n",
    "print(\"v.shape\",v.shape)\n"
   ]
  },
  {
   "cell_type": "markdown",
   "metadata": {},
   "source": [
    "#### The example dpw file contains the wavefunction of a stationary state.\n",
    ">> $dpw1.getPsiEnergy()$ is the stationary state  energy  \n",
    ">> $dpw1.getXArray()$ is the array of x values for the wavefunction  \n",
    ">> $dpw1.getPsiArrayNormalized()$ is the array of wavefunction values  \n",
    "\n",
    "Let's get these values and plot the well and the wavefunction on the same graph.\n",
    "\n"
   ]
  },
  {
   "cell_type": "code",
   "execution_count": 5,
   "metadata": {
    "collapsed": false,
    "jupyter": {
     "outputs_hidden": false
    }
   },
   "outputs": [
    {
     "name": "stdout",
     "output_type": "stream",
     "text": [
      "energy in eV: 6.935564600702201\n",
      "size of psi array: (500,)\n"
     ]
    }
   ],
   "source": [
    "energy = dpw1.getPsiEnergy()\n",
    "print(\"energy in eV:\",energy)\n",
    "\n",
    "psi = dpw1.getPsiArrayNormalized()\n",
    "print(\"size of psi array:\",psi.shape)"
   ]
  },
  {
   "cell_type": "code",
   "execution_count": 6,
   "metadata": {
    "collapsed": false,
    "jupyter": {
     "outputs_hidden": false
    }
   },
   "outputs": [
    {
     "data": {
      "image/png": "[encoded data removed]",
      "text/plain": [
       "<Figure size 432x288 with 1 Axes>"
      ]
     },
     "metadata": {
      "needs_background": "light"
     },
     "output_type": "display_data"
    }
   ],
   "source": [
    "zoom = 10.0\n",
    "plot(x,psi*zoom)\n",
    "plot(x,v)\n",
    "grid(True)"
   ]
  },
  {
   "cell_type": "markdown",
   "metadata": {},
   "source": [
    "#### Check to see that psi is properly normalized with \n",
    ">$\\int_{-\\infty}^{+\\infty} \\! psi^*\n",
    "*psi \\,\\mathrm{d}x=1.0$  \n",
    "\n",
    "#### Approximate the integral with a sum over the xbins as follows :\n",
    ">$sum(psi*psi)*dpw1.getXBinWidth()$   \n",
    "since $psi^* = psi$ ($psi$ is a real function)\n"
   ]
  },
  {
   "cell_type": "code",
   "execution_count": 7,
   "metadata": {
    "collapsed": false,
    "jupyter": {
     "outputs_hidden": false
    }
   },
   "outputs": [
    {
     "name": "stdout",
     "output_type": "stream",
     "text": [
      "integral of psi*psi over the entire well: 1.0\n"
     ]
    }
   ],
   "source": [
    "integ = sum(psi*psi)*dpw1.getXBinWidth()\n",
    "print(\"integral of psi*psi over the entire well:\",integ)"
   ]
  },
  {
   "cell_type": "code",
   "execution_count": 8,
   "metadata": {
    "collapsed": false,
    "jupyter": {
     "outputs_hidden": false
    }
   },
   "outputs": [
    {
     "data": {
      "image/png": "[encoded data removed]",
      "text/plain": [
       "<Figure size 432x288 with 1 Axes>"
      ]
     },
     "metadata": {
      "needs_background": "light"
     },
     "output_type": "display_data"
    }
   ],
   "source": [
    "# plot the probability density, psi*psi\n",
    "plot(x,v)\n",
    "zoom = 5.0\n",
    "plot(x,psi*psi*zoom)\n",
    "grid(True)"
   ]
  },
  {
   "cell_type": "markdown",
   "metadata": {},
   "source": [
    "#### We're all set to calculate the expectation value i.e. for position using\n",
    "> $<\\psi^*|x|\\,\\psi> = <x> = sum(psi*x*psi)*dpw1.getXBinWidth()$\n"
   ]
  },
  {
   "cell_type": "code",
   "execution_count": 9,
   "metadata": {
    "collapsed": false,
    "jupyter": {
     "outputs_hidden": false
    }
   },
   "outputs": [
    {
     "name": "stdout",
     "output_type": "stream",
     "text": [
      "expectation value of x or <x> =  0.19988784018468267\n",
      "does this value make sense?\n"
     ]
    }
   ],
   "source": [
    "\n",
    "expectX  = sum(psi*x*psi)*dpw1.getXBinWidth()\n",
    "print(\"expectation value of x or <x> = \",expectX)\n",
    "print(\"does this value make sense?\")"
   ]
  },
  {
   "cell_type": "markdown",
   "metadata": {},
   "source": [
    "#### We can also easily calculate the standard deviation in the position measurements using\n",
    "> $variance_x = < (x - <x>)^2 > = <x^2> - <x>^2$   \n",
    "$sigma_x = \\sigma_x = sqrt(variance_x)$"
   ]
  },
  {
   "cell_type": "code",
   "execution_count": 10,
   "metadata": {
    "collapsed": false,
    "jupyter": {
     "outputs_hidden": false
    }
   },
   "outputs": [
    {
     "name": "stdout",
     "output_type": "stream",
     "text": [
      "sigmaX 0.09402188690673757\n"
     ]
    }
   ],
   "source": [
    "expectX2 = sum(psi*x*x*psi)*dpw1.getXBinWidth()\n",
    "varianceX = expectX2 - (expectX*expectX)\n",
    "sigmaX = sqrt( varianceX )\n",
    "print(\"sigmaX\",sigmaX)"
   ]
  },
  {
   "cell_type": "markdown",
   "metadata": {},
   "source": [
    "#### We can also determine the expectation value for measurements of the particles momentum and its standard deviation. "
   ]
  },
  {
   "cell_type": "markdown",
   "metadata": {},
   "source": [
    "> In position space (we're using position space), the position operator is just $x$ and the position expectation value is $< \\psi^*|x|\\psi>$.  To find momentum expectation values, use the momentum operator.  A plausible, easy-to-remember argument follows from the Schrodinger equation.  Think of the first term as a kinetic energy term, classically $p^2/2m$.  Thus, in the Schrodinger equation, the momentum operator,$p_{op}$ which we'll just call $p$, must be \n",
    "> p = $\\frac{\\hbar}{i}\\frac{d}{dx}$.  Squaring $p$ gives us the $p^2$ operator and the Schrodinger equation tells us that:    \n",
    ">> $p^2 \\psi = 2m(E - V)\\psi$.  \n",
    "\n",
    ">Determining the standard deviation in the momentum is straightforward:  \n",
    ">> $variance_p = < (p - < p >)^2 >=<p^2>−<p>^2$  \n",
    "$sigma_p = \\sigma_p = sqrt(variance_p)$  \n",
    "\n",
    "\n"
   ]
  },
  {
   "cell_type": "code",
   "execution_count": 11,
   "metadata": {
    "collapsed": false,
    "jupyter": {
     "outputs_hidden": false
    }
   },
   "outputs": [
    {
     "name": "stdout",
     "output_type": "stream",
     "text": [
      "expectation value of p without the hbar factor 1.3755985701993016e-05\n",
      "sigmaP in eV/c 2150.5288659512344\n"
     ]
    }
   ],
   "source": [
    "# get the psi first-derivative array\n",
    "psiPrime = dpw1.getPsiPrimeArrayNormalized()\n",
    "\n",
    "# we expect that <p> = 0, so just do the integral of psi*psiPrime over the well.\n",
    "# The sum should be close to zero, even without the $\\hbar$ included.\n",
    "expectP = sum(psiPrime*psi)*dpw1.getXBinWidth()\n",
    "print(\"expectation value of p without the hbar factor\",expectP)\n",
    "\n",
    "# electron mass in eV/c*c.\n",
    "mElectron = .511 * 1.e6\n",
    "expectP2 = sum( psi*(energy - v)*psi)*dpw1.getXBinWidth() * 2.0*.511e6\n",
    "\n",
    "# standard deviation of the momentum in units of eV/c\n",
    "sigmaP = sqrt(expectP2)\n",
    "print(\"sigmaP in eV/c\",sigmaP)\n"
   ]
  },
  {
   "cell_type": "code",
   "execution_count": 12,
   "metadata": {
    "collapsed": false,
    "jupyter": {
     "outputs_hidden": false
    }
   },
   "outputs": [],
   "source": [
    "# are these numbers consistent with the uncertainty principle?"
   ]
  },
  {
   "cell_type": "code",
   "execution_count": 13,
   "metadata": {
    "collapsed": false,
    "jupyter": {
     "outputs_hidden": false
    }
   },
   "outputs": [
    {
     "name": "stdout",
     "output_type": "stream",
     "text": [
      "           hbar in eV-sec 6.582119514e-16\n",
      "sigmaX * sigmaP in eV-sec 6.7398927274713855e-16\n"
     ]
    }
   ],
   "source": [
    "# get the value of hbar from scipy\n",
    "from scipy import constants as cons\n",
    "\n",
    "# Use this method, cons.find('Planck'), to get the string parameter for cons.value\n",
    "hbarV = cons.value('Planck constant over 2 pi in eV s')\n",
    "print(\"           hbar in eV-sec\",hbarV)\n",
    "\n",
    "# be careful with the units, sigmaX is in nm\n",
    "sigmaXP = sigmaX * sigmaP / (3.e8 * 1.e9)\n",
    "print(\"sigmaX * sigmaP in eV-sec\",sigmaXP)\n"
   ]
  },
  {
   "cell_type": "code",
   "execution_count": null,
   "metadata": {},
   "outputs": [],
   "source": []
  }
 ],
 "metadata": {
  "anaconda-cloud": {},
  "kernelspec": {
   "display_name": "Python 3",
   "language": "python",
   "name": "python3"
  },
  "language_info": {
   "codemirror_mode": {
    "name": "ipython",
    "version": 3
   },
   "file_extension": ".py",
   "mimetype": "text/x-python",
   "name": "python",
   "nbconvert_exporter": "python",
   "pygments_lexer": "ipython3",
   "version": "3.7.3"
  }
 },
 "nbformat": 4,
 "nbformat_minor": 4
}
