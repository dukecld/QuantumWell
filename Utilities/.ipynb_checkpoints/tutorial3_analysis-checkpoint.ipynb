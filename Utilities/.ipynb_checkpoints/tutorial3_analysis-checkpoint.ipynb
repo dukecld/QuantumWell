{
 "cells": [
  {
   "cell_type": "markdown",
   "metadata": {},
   "source": [
    "## Tutorial Examples Part 1\n",
    ">>Version 2.0.\n",
    "October, 2020  \n",
    "Charlie Duke  \n",
    "Physics Department, Grinnell College\n",
    "\n",
    "This jupyter notebook creates a DataPotentialWell class instance with \n",
    "the well details read from a previously created .dpw file.  It uses the wavefunction to calculate expectation values for position and momentum along with their expected standard deviations for a comparison with the uncertainty principle.\n",
    "\n",
    "I will assume that you have already worked through the tutorials for reading and writing dpw files.  We will use those techniques here with the dpw file included in the download.  The files includes a wavefunction. However, you can create your dpw file from the solver making sure that you can see a graph of a wavefunction before writing the dpw file."
   ]
  },
  {
   "cell_type": "code",
   "execution_count": null,
   "metadata": {},
   "outputs": [],
   "source": [
    "# add the path and import the DataPotentialWell module\n",
    "%pylab inline\n",
    "import sys,os\n",
    "from getPath import getPath\n",
    "\n",
    "%load_ext autoreload\n",
    "%autoreload 2"
   ]
  },
  {
   "cell_type": "code",
   "execution_count": null,
   "metadata": {},
   "outputs": [],
   "source": [
    "# We have to add the path to the src folder to sys.path\n",
    "# as in previous tutorials\n",
    "\n",
    "from getPath import setPath\n",
    "setPath(sys.path)\n",
    "\n",
    "# check out sys.path if you want\n",
    "# The first element should be the path to the src directory\n",
    "if True:\n",
    "    print(sys.path)\n"
   ]
  },
  {
   "cell_type": "code",
   "execution_count": null,
   "metadata": {},
   "outputs": [],
   "source": [
    "# import modules now that sys.path is set\n",
    "from DataPotentialWell import *"
   ]
  },
  {
   "cell_type": "code",
   "execution_count": null,
   "metadata": {
    "collapsed": false,
    "jupyter": {
     "outputs_hidden": false
    }
   },
   "outputs": [],
   "source": [
    "# create an instance of the data class and read well parameters\n",
    "# contained in a .dpw file\n",
    "dpw1 = DataPotentialWell()\n",
    "\n",
    "# These dpw files are in the Utilities directory\n",
    "# psi1.dpw file: single-barrier infinite well and the ground-state wavefunction.\n",
    "# psi2.dpw file: same well and the first-state wavefunction.\n",
    "\n",
    "dpw1.readDpwFile(\"psi1.dpw\")\n"
   ]
  },
  {
   "cell_type": "code",
   "execution_count": null,
   "metadata": {
    "collapsed": false,
    "jupyter": {
     "outputs_hidden": false
    }
   },
   "outputs": [],
   "source": [
    "# get the x array amd potential array using x and v as array variables\n",
    "x = dpw1.getXArray()\n",
    "v = dpw1.getVArray()\n",
    "# print the shape of these arrays\n",
    "print(\"x.shape\",x.shape,\"   v.shape\",v.shape)\n"
   ]
  },
  {
   "cell_type": "code",
   "execution_count": null,
   "metadata": {
    "collapsed": false,
    "jupyter": {
     "outputs_hidden": false
    }
   },
   "outputs": [],
   "source": [
    "# get the stationary state energy and the normalized psi array\n",
    "energy = dpw1.getPsiEnergy()\n",
    "print(\"energy in eV:\",energy)\n",
    "\n",
    "psi = dpw1.getPsiArrayNormalized()\n",
    "print(\"size of psi array:\",psi.shape)"
   ]
  },
  {
   "cell_type": "code",
   "execution_count": null,
   "metadata": {
    "collapsed": false,
    "jupyter": {
     "outputs_hidden": false
    }
   },
   "outputs": [],
   "source": [
    "# plot the potential energy and the wavefunction on the same graph\n",
    "zoom = 10.0\n",
    "plot(x,psi*zoom)\n",
    "plot(x,v)\n",
    "grid(True)"
   ]
  },
  {
   "cell_type": "markdown",
   "metadata": {},
   "source": [
    "#### Check to see that psi is properly normalized with \n",
    ">$\\int_{-\\infty}^{+\\infty} \\! psi^*\n",
    "*psi \\,\\mathrm{d}x=1.0$  \n",
    "\n",
    "#### Approximate the integral with a sum over the xbins as follows :\n",
    ">$sum(psi*psi)*dpw1.getXBinWidth()$   \n",
    "since $psi^* = psi$ ($psi$ is a real function)\n"
   ]
  },
  {
   "cell_type": "code",
   "execution_count": null,
   "metadata": {
    "collapsed": false,
    "jupyter": {
     "outputs_hidden": false
    }
   },
   "outputs": [],
   "source": [
    "integ = sum(psi*psi)*dpw1.getXBinWidth()\n",
    "print(\"integral of psi*psi over the entire well:\",integ)"
   ]
  },
  {
   "cell_type": "code",
   "execution_count": null,
   "metadata": {
    "collapsed": false,
    "jupyter": {
     "outputs_hidden": false
    }
   },
   "outputs": [],
   "source": [
    "# plot the probability density, psi*psi\n",
    "plot(x,v)\n",
    "zoom = 5.0\n",
    "plot(x,psi*psi*zoom)\n",
    "grid(True)"
   ]
  },
  {
   "cell_type": "markdown",
   "metadata": {},
   "source": [
    "#### We're all set to calculate the expectation value i.e. for position using\n",
    "\n",
    "> $<\\psi|x|\\psi> = <x> = sum(psi*x*psi)*dpw1.getXBinWidth()$\n"
   ]
  },
  {
   "cell_type": "code",
   "execution_count": null,
   "metadata": {
    "collapsed": false,
    "jupyter": {
     "outputs_hidden": false
    }
   },
   "outputs": [],
   "source": [
    "\n",
    "expectX  = sum(psi*x*psi)*dpw1.getXBinWidth()\n",
    "print(\"expectation value of x or <x> = \",expectX)\n",
    "print(\"does this value make sense?\")"
   ]
  },
  {
   "cell_type": "markdown",
   "metadata": {},
   "source": [
    "#### We can also easily calculate the standard deviation in the position measurements using\n",
    "> $variance_x = < (x - <x>)^2 > = <x^2> - <x>^2$   \n",
    "$sigma_x = \\sigma_x = sqrt(variance_x)$"
   ]
  },
  {
   "cell_type": "code",
   "execution_count": null,
   "metadata": {
    "collapsed": false,
    "jupyter": {
     "outputs_hidden": false
    }
   },
   "outputs": [],
   "source": [
    "expectX2 = sum(psi*x*x*psi)*dpw1.getXBinWidth()\n",
    "varianceX = expectX2 - (expectX*expectX)\n",
    "sigmaX = sqrt( varianceX )\n",
    "print(\"sigmaX\",sigmaX)"
   ]
  },
  {
   "cell_type": "markdown",
   "metadata": {},
   "source": [
    "#### We can also determine the expectation value for measurements of the particles momentum and its standard deviation. "
   ]
  },
  {
   "cell_type": "markdown",
   "metadata": {},
   "source": [
    "> In position space (we're using position space), the position operator is just $x$ and the position expectation value is $ < \\psi|x|\\psi> $.  To find momentum expectation values, use the momentum operator.  A plausible, easy-to-remember argument follows from the Schrodinger equation.  Think of the first term as a kinetic energy term, classically $p^2/2m$.  Thus, in the Schrodinger equation, the momentum operator,$p_{op}$ which we'll just call $p$, must be \n",
    "> p = $\\frac{\\hbar}{i}\\frac{d}{dx}$.  Squaring $p$ gives us the $p^2$ operator and the Schrodinger equation tells us that:    \n",
    ">> $p^2 \\psi = 2m(E - V)\\psi$.  \n",
    "\n",
    ">Determining the standard deviation in the momentum is straightforward:  \n",
    ">> $variance_p = < (p - < p >)^2 >=<p^2>−<p>^2$  \n",
    "$sigma_p = \\sigma_p = sqrt(variance_p)$  \n",
    "\n",
    "\n"
   ]
  },
  {
   "cell_type": "code",
   "execution_count": null,
   "metadata": {
    "collapsed": false,
    "jupyter": {
     "outputs_hidden": false
    }
   },
   "outputs": [],
   "source": [
    "# get the psi first-derivative array\n",
    "psiPrime = dpw1.getPsiPrimeArrayNormalized()\n",
    "\n",
    "# we expect that <p> = 0, so just do the integral of psi*psiPrime \n",
    "# over the well.\n",
    "# The sum should be close to zero, even without the hbar included.\n",
    "expectP = sum(psiPrime*psi)*dpw1.getXBinWidth()\n",
    "print(\"expectation value of p without the hbar factor\",expectP)\n",
    "\n",
    "# electron mass in eV/c*c.\n",
    "mElectron = .511 * 1.e6\n",
    "expectP2 = sum( psi*(energy - v)*psi)*dpw1.getXBinWidth() * 2.0*mElectron\n",
    "\n",
    "# standard deviation of the momentum in units of eV/c\n",
    "sigmaP = sqrt(expectP2)\n",
    "print(\"sigmaP in eV/c\",sigmaP)\n"
   ]
  },
  {
   "cell_type": "markdown",
   "metadata": {
    "jupyter": {
     "outputs_hidden": false
    }
   },
   "source": [
    "#### are these numbers consistent with the uncertainty principle?"
   ]
  },
  {
   "cell_type": "code",
   "execution_count": null,
   "metadata": {
    "collapsed": false,
    "jupyter": {
     "outputs_hidden": false
    }
   },
   "outputs": [],
   "source": [
    "# get the value of hbar from scipy\n",
    "from scipy import constants as cons\n",
    "# the cons class is quite amazing, put your cursor on cons \n",
    "# and do a shift-tab to see what's available\n",
    "\n",
    "# Use this method, cons.find('Planck'), to get the \n",
    "# string parameter for cons.value\n",
    "listPlanck = cons.find('Planck')\n",
    "\n",
    "# list the id strings containing \"Planck\"\n",
    "for st in listPlanck:\n",
    "    print(\"  \",st)\n",
    "# \"reduced Planck constant\" is Planck constant over 2 pi\n",
    "# we want \"reduced Planck constant in eV s\""
   ]
  },
  {
   "cell_type": "code",
   "execution_count": null,
   "metadata": {
    "collapsed": false,
    "jupyter": {
     "outputs_hidden": false
    }
   },
   "outputs": [],
   "source": [
    "hbar_eVSec = cons.value('reduced Planck constant in eV s')\n",
    "print(\"           hbar in eV-sec\",hbar_eVSec)"
   ]
  },
  {
   "cell_type": "code",
   "execution_count": null,
   "metadata": {
    "collapsed": false,
    "jupyter": {
     "outputs_hidden": false
    }
   },
   "outputs": [],
   "source": [
    "# be careful with the units, sigmaX is in nm\n",
    "sigmaXP = sigmaX * sigmaP / (3.e8 * 1.e9)\n",
    "print(\"sigmaX * sigmaP in eV-sec\",sigmaXP)\n",
    "print(\"                   hbar  \",hbar_eVSec)"
   ]
  },
  {
   "cell_type": "code",
   "execution_count": null,
   "metadata": {},
   "outputs": [],
   "source": []
  },
  {
   "cell_type": "code",
   "execution_count": null,
   "metadata": {},
   "outputs": [],
   "source": []
  }
 ],
 "metadata": {
  "anaconda-cloud": {},
  "kernelspec": {
   "display_name": "Python 3",
   "language": "python",
   "name": "python3"
  },
  "language_info": {
   "codemirror_mode": {
    "name": "ipython",
    "version": 3
   },
   "file_extension": ".py",
   "mimetype": "text/x-python",
   "name": "python",
   "nbconvert_exporter": "python",
   "pygments_lexer": "ipython3",
   "version": "3.8.3"
  }
 },
 "nbformat": 4,
 "nbformat_minor": 4
}
