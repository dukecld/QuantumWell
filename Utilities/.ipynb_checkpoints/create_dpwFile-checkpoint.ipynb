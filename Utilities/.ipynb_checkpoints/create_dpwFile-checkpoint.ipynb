{
 "cells": [
  {
   "cell_type": "markdown",
   "metadata": {},
   "source": [
    "##  Tutorial of Create and Save DataPotentialWell .dpw File\n",
    ">> First version by Emily Griffith '17 and Androniki Mitrou '17.\n",
    "Grinnell College, April 2015  \n",
    "\n",
    ">> current version by Charlie Duke, October 2020\n",
    "\n",
    "\n",
    "> The DataPotentialWell class contains all quantum-well data\n",
    "used in the QuantumWell solver.  The solver can both read from and \n",
    "write this class to files using the Python pickle module.  These \n",
    "files must have .dpw extensions.\n",
    "\n",
    "> This notebook creates a .dpw file describing a potential well \n",
    "with a given number of barriers each with the same width and the same height. \n",
    "It uses the DataPotentialWell and the BuildPotentialWell classes.\n",
    "\n",
    "> Of course, you can construct this well from the multipleBarrier option on \n",
    "the solver GUI.  But this is how you construct the well using your own code.\n",
    "\n",
    "You can move this notebook to any directory as long as you move the `getPath.py` file to that directory (see the `tutorial_readDpwFile.ipynb` notebook for more details)\n"
   ]
  },
  {
   "cell_type": "code",
   "execution_count": null,
   "metadata": {},
   "outputs": [],
   "source": [
    "# add the path and import the DataPotentialWell module\n",
    "%pylab inline\n",
    "import sys,os\n",
    "from getPath import getPath\n",
    "\n",
    "%load_ext autoreload\n",
    "%autoreload 2\n",
    "\n",
    "# find path to src subdirectory and insert in sys.path \n",
    "path_to_src = getPath(subdir = 'src')[1] \n",
    "sys.path.insert(0,path_to_src)\n",
    "\n",
    "# check out sys.path if you want\n",
    "if False:\n",
    "    print(sys.path)\n",
    "\n",
    "# we'll import the classes later"
   ]
  },
  {
   "cell_type": "code",
   "execution_count": null,
   "metadata": {
    "collapsed": false,
    "jupyter": {
     "outputs_hidden": false
    }
   },
   "outputs": [],
   "source": [
    "\n",
    "#   Set well parameters for your new potential well\n",
    "\n",
    "# well-edge heights\n",
    "w_hL = inf    # well height left\n",
    "w_hR = 64.0   # well height right\n",
    "\n",
    "# width of each individual well, all have the same width\n",
    "w_w = 0.2\n",
    "\n",
    "# height and width of each barrier\n",
    "b_w = 0.1\n",
    "b_h = 64.0\n",
    "\n",
    "# number of barriers\n",
    "num_b = 2\n",
    "\n",
    "# name of your dpw file, e.g. \"myFile\". This code will add a .dpw file extension\n",
    "filename = \"myDpwFile\"\n"
   ]
  },
  {
   "cell_type": "code",
   "execution_count": null,
   "metadata": {
    "collapsed": false,
    "jupyter": {
     "outputs_hidden": false
    }
   },
   "outputs": [],
   "source": [
    "# add .dpw filename extension\n",
    "filename = filename + \".dpw\"\n",
    "\n",
    "# total well width\n",
    "w_total = num_b*b_w + ((num_b + 1) * w_w)\n",
    "print (\"total well width, edge to edge:\",w_total)"
   ]
  },
  {
   "cell_type": "code",
   "execution_count": null,
   "metadata": {
    "collapsed": false,
    "jupyter": {
     "outputs_hidden": false
    }
   },
   "outputs": [],
   "source": [
    "# print well parameters entered above\n",
    "print(\" ready to create well with these parameters:\")\n",
    "print(\"    w_hL/R   \",w_hL,\" / \",w_hR)\n",
    "print(\"    w_w      \",w_w)\n",
    "print(\"    b_w      \",b_w)\n",
    "print(\"    b_h      \",b_h)\n",
    "print(\"    num_b    \",num_b)\n",
    "print(\"    w_total  {0:6.3f}\".format(w_total))\n",
    "print(\"    filename\",filename)"
   ]
  },
  {
   "cell_type": "code",
   "execution_count": null,
   "metadata": {
    "collapsed": false,
    "jupyter": {
     "outputs_hidden": false
    }
   },
   "outputs": [],
   "source": [
    "# import QuantumWell classes\n",
    "# BuildPotentialWell methods build the potential well and fill\n",
    "#     the DataPotentialWell class instance\n",
    "\n",
    "from DataPotentialWell import *\n",
    "from BuildPotentialWell import *\n",
    "\n",
    "# create class instances\n",
    "dpw = DataPotentialWell ()\n",
    "bpw = BuildPotentialWell (dpw)\n",
    "\n",
    "# note that the BuildPotentialWell methods fill\n",
    "# the dpw instance of the DataPotentialWell class\n",
    "\n",
    "# set basic well parameters\n",
    "bpw.setBasicWellParms(w_total, w_hL,w_hR)\n",
    "\n",
    "#loop to build barriers\n",
    "n=range (num_b + 1)\n",
    "\n",
    "for r in n:\n",
    "    if r==0:\n",
    "        print ('-')    # no barrier to add\n",
    "    else:\n",
    "        xmin= (r-1)*b_w +r*w_w\n",
    "        xmax= r*b_w + r*w_w\n",
    "        s1 = \"adding barrier {0:d}  {1:6.3f}   {2:6.3f}   {3:6.3f}\"\n",
    "        print(s1.format(r,xmin,xmax,b_h))\n",
    "        bpw.addBarrier(xmin,xmax,b_h,0.0,0.0)"
   ]
  },
  {
   "cell_type": "code",
   "execution_count": null,
   "metadata": {
    "collapsed": false,
    "jupyter": {
     "outputs_hidden": false
    }
   },
   "outputs": [],
   "source": [
    "# useful for debugging, set to True or False for printData method.\n",
    "if True:\n",
    "    dpw.printData()"
   ]
  },
  {
   "cell_type": "code",
   "execution_count": null,
   "metadata": {
    "collapsed": false,
    "jupyter": {
     "outputs_hidden": false
    }
   },
   "outputs": [],
   "source": [
    "dpw.writeDpwFile(filename)\n",
    "print(\"wrote dpw file:\",filename)\n",
    "print(\"you can read this file into the solver\")"
   ]
  },
  {
   "cell_type": "code",
   "execution_count": null,
   "metadata": {},
   "outputs": [],
   "source": []
  },
  {
   "cell_type": "code",
   "execution_count": null,
   "metadata": {},
   "outputs": [],
   "source": [
    "# check by loading the file and printing the well data\n",
    "from DataPotentialWell import *\n",
    "\n",
    "filename = 'myDpwFile.dpw'\n",
    "f = open(filename, 'rb')\n",
    "        \n",
    "newDpw = pickle.load(f)\n",
    "\n",
    "newDpw.printData()\n",
    "\n",
    "f.close()\n",
    "\n"
   ]
  },
  {
   "cell_type": "code",
   "execution_count": null,
   "metadata": {},
   "outputs": [],
   "source": []
  }
 ],
 "metadata": {
  "anaconda-cloud": {},
  "kernelspec": {
   "display_name": "Python 3",
   "language": "python",
   "name": "python3"
  },
  "language_info": {
   "codemirror_mode": {
    "name": "ipython",
    "version": 3
   },
   "file_extension": ".py",
   "mimetype": "text/x-python",
   "name": "python",
   "nbconvert_exporter": "python",
   "pygments_lexer": "ipython3",
   "version": "3.8.3"
  }
 },
 "nbformat": 4,
 "nbformat_minor": 4
}
