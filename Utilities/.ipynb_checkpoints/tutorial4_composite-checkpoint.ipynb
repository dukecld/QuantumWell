{
 "cells": [
  {
   "cell_type": "markdown",
   "metadata": {},
   "source": [
    "### Tutorial 4: Composite Wavefunctions\n",
    "\n",
    ">>Version 2.0.\n",
    "October, 2020  \n",
    "Charlie Duke  \n",
    "Physics Department, Grinnell College\n",
    "\n",
    "Revision of notebook developed by:  \n",
    ">> Emily Griffin '17 and Androniki Mitrou '17  \n",
    ">> Grinnell College  \n",
    ">> May 2015  \n",
    "\n",
    "> This notebook illustrates composite wavefunctions created by summing stationary-state wavefunctions produced by the QuantumWell solver.  Specifically, it provides an animation over time of the composite wavefunction from the first two stationary states of a potential well with a single internal potential barrier.  \n",
    "\n",
    "The potential well details and the stationary state wavefunctions were previously created using the potential-well solver with the results stored in a .dpw file. After adding the time dependent function, the animated plot occurs in an external window, possibly hidden behind this window. If so, move this window to find it.\n",
    "\n",
    "*  Read stationary state wavefunctions produced by the quantum potential-well solver\n",
    "*  Verify Normalization\n",
    "*  Create composite wavefunctions and normalize\n",
    "*  Calculate some expectation values\n",
    "*  Add time dependence\n",
    "\n",
    "We assume that you have already familiar with reading and on writing .dpw files as shown in their tutorials.  If not, you should work through these tutorials before using this notebook."
   ]
  },
  {
   "cell_type": "code",
   "execution_count": null,
   "metadata": {},
   "outputs": [],
   "source": []
  },
  {
   "cell_type": "code",
   "execution_count": 2,
   "metadata": {},
   "outputs": [
    {
     "name": "stdout",
     "output_type": "stream",
     "text": [
      "Using matplotlib backend: MacOSX\n",
      "Populating the interactive namespace from numpy and matplotlib\n"
     ]
    }
   ],
   "source": [
    "import sys,os\n",
    "\n",
    "# setup plotting methods with inline graphs\n",
    "%pylab \n",
    "%matplotlib inline\n",
    "\n",
    "%load_ext autoreload\n",
    "%autoreload 2"
   ]
  },
  {
   "cell_type": "code",
   "execution_count": 4,
   "metadata": {},
   "outputs": [
    {
     "name": "stdout",
     "output_type": "stream",
     "text": [
      "['/Users/charlesduke/Repositories/QuantumWell_Github/QuantumWell/src', '/Users/charlesduke/Repositories/QuantumWell_Github/QuantumWell/src', '/Users/charlesduke/Repositories/QuantumWell/Utilities', '/Users/charlesduke/opt/anaconda3/lib/python38.zip', '/Users/charlesduke/opt/anaconda3/lib/python3.8', '/Users/charlesduke/opt/anaconda3/lib/python3.8/lib-dynload', '', '/Users/charlesduke/opt/anaconda3/lib/python3.8/site-packages', '/Users/charlesduke/opt/anaconda3/lib/python3.8/site-packages/aeosa', '/Users/charlesduke/opt/anaconda3/lib/python3.8/site-packages/IPython/extensions', '/Users/charlesduke/.ipython']\n"
     ]
    }
   ],
   "source": [
    "# We have to add the path to the src folder to sys.path\n",
    "# as in previous tutorials\n",
    "\n",
    "from getPath import setPath\n",
    "setPath(sys.path)\n",
    "\n",
    "# check out sys.path if you want\n",
    "# The first element should be the path to the src directory\n",
    "if True:\n",
    "    print(sys.path)\n",
    "\n",
    "# with path set, can import from src directory\n",
    "from DataPotentialWell import *"
   ]
  },
  {
   "cell_type": "code",
   "execution_count": null,
   "metadata": {},
   "outputs": [],
   "source": [
    "# create class instances and read the existing .dpw files which should be in \n",
    "#   this directory\n",
    "dpwfile1 = \"psi1.dpw\"\n",
    "dpwfile2 = \"psi2.dpw\"\n",
    "dpw1 = DataPotentialWell()\n",
    "dpw1.readDpwFile(dpwfile1)\n",
    "\n",
    "dpw2 = DataPotentialWell()\n",
    "dpw2.readDpwFile(dpwfile2)\n",
    "\n",
    "# set to True to print the well data for dpw1 or dpw2, \n",
    "if False:\n",
    "    print('dpw1 data  ')\n",
    "    dpw1.printData()\n",
    "    print('\\n')\n",
    "    print('dpw2 data')\n",
    "    dpw2.printData()\n",
    "    print('\\n')"
   ]
  },
  {
   "cell_type": "code",
   "execution_count": null,
   "metadata": {},
   "outputs": [],
   "source": [
    "# get the x, psi, and psiPrime arrays from the data class instances\n",
    "#   psiPrime is the first-derivative of psi\n",
    "x = dpw1.getXArray()\n",
    "print(\"x.shape \",x.shape)\n",
    "ind = 10\n",
    "\n",
    "# get the distance between x bin edges\n",
    "delX = dpw1.getXBinWidth()\n",
    "print(\"delX \",delX,\" nm\")\n",
    "\n",
    "# get the psi arrays, they should already be normalized\n",
    "psi1N = dpw1.getPsiArrayNormalized()\n",
    "psi2N = dpw2.getPsiArrayNormalized()\n",
    "\n",
    "# get the potential array\n",
    "vArray = dpw1.getVArray()\n",
    "\n",
    "# here are the stationary state energies for the two states\n",
    "#   the energies associated with the psi wavefunction\n",
    "e1 = dpw1.getPsiEnergy()\n",
    "e2 = dpw2.getPsiEnergy()\n",
    "print(\"energy for state1 and state2 \",e1,e2,)"
   ]
  },
  {
   "cell_type": "code",
   "execution_count": null,
   "metadata": {},
   "outputs": [],
   "source": [
    "# check normalization\n",
    "n1 = sum(psi1N*psi1N)*delX\n",
    "n2 = sum(psi2N*psi2N)*delX\n",
    "print('check normalization')\n",
    "print(\"sum(psi*psi)*delX for psi1N \",n1)\n",
    "print(\"sum(psi*psi)*delX for psi2N \",n2)"
   ]
  },
  {
   "cell_type": "code",
   "execution_count": null,
   "metadata": {},
   "outputs": [],
   "source": [
    "# set False to True to make plots of the stationary-state wavefunctions\n",
    "# have a look at psi1N and psi2N (psi1N is red, internal barrier is green)\n",
    "\n",
    "if True:\n",
    "    plt.plot(x,psi1N,'r')\n",
    "    plt.plot(x,psi2N,'b')\n",
    "    zoom = 0.15\n",
    "    plt.plot(x,vArray*zoom,'g')\n",
    "    maxV = vArray.max()*zoom\n",
    "    plt.plot([dpw1.xmin,dpw1.xmin],[0.0,maxV],'g')\n",
    "    plt.plot([dpw1.xmax,dpw1.xmax],[0.0,maxV],'g')\n",
    "    plt.grid()\n",
    "    #plt.show()"
   ]
  },
  {
   "cell_type": "code",
   "execution_count": null,
   "metadata": {},
   "outputs": [],
   "source": [
    "vArray.max()*zoom"
   ]
  },
  {
   "cell_type": "code",
   "execution_count": null,
   "metadata": {},
   "outputs": [],
   "source": [
    "# Ditto to have a look at the probability distributions\n",
    "if True:\n",
    "    plt.plot(x,psi1N*psi1N,'r')\n",
    "    plt.plot(x,psi2N*psi2N,'b')\n",
    "    zoom = 0.2\n",
    "    plt.plot(x,vArray*zoom,'g')\n",
    "    maxV = vArray.max()*zoom\n",
    "    plt.plot([dpw1.xmin,dpw1.xmin],[0.0,maxV],'g')\n",
    "    plt.plot([dpw1.xmax,dpw1.xmax],[0.0,maxV],'g')\n",
    "    plt.grid()\n",
    "\n"
   ]
  },
  {
   "cell_type": "code",
   "execution_count": null,
   "metadata": {},
   "outputs": [],
   "source": [
    "# are psi1N and psi2N orthogonal\n",
    "print(\"sum(psi1N*psi2N)*delX \",sum(psi1N*psi2N)*delX)"
   ]
  },
  {
   "cell_type": "code",
   "execution_count": null,
   "metadata": {},
   "outputs": [],
   "source": [
    "# what is the expectation value of x\n",
    "\n",
    "expect1X = sum(psi1N*x*psi1N)*delX\n",
    "print(\"expection value of X for psi1\",expect1X)\n",
    "\n",
    "expect2X = sum(psi2N*  x  *psi2N)*delX\n",
    "print(\"expection value of X for psi2 \",expect2X)"
   ]
  },
  {
   "cell_type": "code",
   "execution_count": null,
   "metadata": {},
   "outputs": [],
   "source": [
    "# standard deviations in x for psi1\n",
    "stdDev1X = sum(psi1N*(    (x-expect1X)**2)   *psi1N)*delX\n",
    "print(\"stdDev1X \",sqrt(stdDev1X))\n",
    "\n",
    "# standard deviations in x for psi2\n",
    "stdDev2X = sum(psi2N*(    (x-expect2X)**2)   *psi2N)*delX\n",
    "print(\"stdDev2X \",sqrt(stdDev2X),'\\n')"
   ]
  },
  {
   "cell_type": "code",
   "execution_count": null,
   "metadata": {},
   "outputs": [],
   "source": [
    "# form normalized sum and difference of psi1 and psi2, \n",
    "# psiSum and psiDiff should be normalized because of the 1/sqrt(2)\n",
    "psiSum = (1/sqrt(2.))*(psi1N + psi2N)\n",
    "psiDiff = (1/sqrt(2.0))*(psi1N - psi2N)\n",
    "\n",
    "# verify normalization\n",
    "print (\"psiSum normalized \",sum(psiSum*psiSum)*delX )\n",
    "print(\"psiDiff normalized \",sum(psiDiff*psiDiff)*delX )"
   ]
  },
  {
   "cell_type": "code",
   "execution_count": null,
   "metadata": {},
   "outputs": [],
   "source": [
    "# have a look at psiSum and psiDiff, psiSum is red\n",
    "# internal barrier in green\n",
    "if True:\n",
    "    plt.plot(x,psiSum,'r')\n",
    "    plt.plot(x,psiDiff,'b')\n",
    "    zoom = 0.15\n",
    "    plt.plot(x,vArray*zoom,'g')\n",
    "    maxV = vArray.max()*zoom\n",
    "    plt.plot([dpw1.xmin,dpw1.xmin],[0.0,maxV],'g')\n",
    "    plt.plot([dpw1.xmax,dpw1.xmax],[0.0,maxV],'g')\n",
    "     \n",
    "    plt.grid()\n"
   ]
  },
  {
   "cell_type": "code",
   "execution_count": null,
   "metadata": {},
   "outputs": [],
   "source": [
    "# are psiSum and psiDiff orthogonal\n",
    "print( sum(  psiSum*psiDiff)*delX  )"
   ]
  },
  {
   "cell_type": "code",
   "execution_count": null,
   "metadata": {},
   "outputs": [],
   "source": [
    "# have a look at the expectation value of x\n",
    "print( \"<x> for psiSum\",sum( psiSum*x*psiSum)* delX )\n",
    "print( \"<x> for psiDiff\",sum( psiDiff*x*psiDiff)*delX)"
   ]
  },
  {
   "cell_type": "code",
   "execution_count": null,
   "metadata": {},
   "outputs": [],
   "source": []
  },
  {
   "cell_type": "markdown",
   "metadata": {},
   "source": [
    "#### Add time dependence to the wave function\n",
    "> You started with the time dependent Schrodinger equation and separated the space and time variables to create the time-independent Schrodinger equation.  The QuantumWell solver solves this equation, including finding the stationary-state energies where the wavefunctions have physically realistic boundary conditions.\n",
    "\n",
    "* Have a look at the differential equation for the time dependence of the stationary-state wavefunction and you'll see it has the form (python uses the letter $j$ rather than $i$ to indicate an imaginary number)\n",
    "\n",
    " $$\\phi(t)=A exp(-j\\frac E \\hbar t) $$\n",
    " \n",
    "* Thus, the complete wavefunction for a stationary state is $\\psi (x) * \\phi (t) $ \n",
    "* But, the properties of a particle in a stationary state are independent of time.  Try calculating the expectation value of x using the full wavefunction and you'll see the exponential time terms disappear.\n",
    "* This gets more interesting for example, if we start the electron on the left subwell at $t = 0$ and assume that the wavefunction at $t=0$ is $psiSum from the last section.  The\n",
    "probability distribution for psiSum peaks in the left subwell - that's what we want.\n",
    "\n",
    "* To be more precise, the relative phase angle between the two components of psiSum is zero at $t=0$ and increases as $t$ progresses. Just work it out; rederive psiSum by including each exponential time term and then calculate the probability density.  You'll find that the relative phase angle is all that matters (don't forget that the wavefunction is now a complex function)\n",
    "\n",
    " \n",
    " "
   ]
  },
  {
   "cell_type": "code",
   "execution_count": null,
   "metadata": {},
   "outputs": [],
   "source": [
    "# a look at python complex data class\n",
    "# example: ac = 1 + 2j and ab = 5 + 3j\n",
    "ac = 1 + 2j\n",
    "print(type(ac))\n",
    "print(\"type(ac) \",type(ac),\" \",ac,\" \",real(ac),\" \",imag(ac))\n",
    "print(\"exp(ac) \", exp(ac))\n",
    "\n",
    "ab = 5 + 3j\n",
    "print(ac,ab,ac+ab,ac*ab,ac/ab)"
   ]
  },
  {
   "cell_type": "code",
   "execution_count": null,
   "metadata": {},
   "outputs": [],
   "source": [
    "# Let's plot some probability densities for your choice of relative phases\n",
    "# make a list of phase angles and make some plots, note the relative \n",
    "# angle in the definition of psi.  You could just as well include the \n",
    "# exponential time term in psi1N and in psi2N. In my case, I used the \n",
    "# relative phase since I can make the period 1 sec,e.g. \n",
    "# ((E2 - E1)/hbar)* 1sec = 2*pi.\n",
    "\n",
    "# pick a phase angle list or create one of your own and rerun the cell\n",
    "# to produce the plot for your phaseDegL list.\n",
    "phaseDegL = [0.0]\n",
    "#phaseDegL = [0.0,180.0]\n",
    "#phaseDegL = [0.0,270.0]\n",
    "#phaseDegL = [0.0,90.0,180.0,270.0]\n",
    "\n",
    "zoom = 0.3\n",
    "plt.plot(x,vArray*zoom,'g')\n",
    "maxV = vArray.max()*zoom\n",
    "plt.plot([dpw1.xmin,dpw1.xmin],[0.0,maxV],'g')\n",
    "plt.plot([dpw1.xmax,dpw1.xmax],[0.0,maxV],'g')\n",
    " \n",
    "# make a plot of probability density for each phase angle\n",
    "for angle in deg2rad(phaseDegL):\n",
    "    psi = (1/sqrt(2.0))*(psi1N + psi2N*exp(angle*1j))\n",
    "    probDen = real(np.conj(psi) * psi)\n",
    "    plt.plot(x,probDen)\n",
    "    plt.grid()\n"
   ]
  },
  {
   "cell_type": "markdown",
   "metadata": {},
   "source": [
    " These plots cry out for an animation; see the tutorial5_animation.ipynb for details\n"
   ]
  }
 ],
 "metadata": {
  "anaconda-cloud": {},
  "kernelspec": {
   "display_name": "Python 3",
   "language": "python",
   "name": "python3"
  },
  "language_info": {
   "codemirror_mode": {
    "name": "ipython",
    "version": 3
   },
   "file_extension": ".py",
   "mimetype": "text/x-python",
   "name": "python",
   "nbconvert_exporter": "python",
   "pygments_lexer": "ipython3",
   "version": "3.8.3"
  }
 },
 "nbformat": 4,
 "nbformat_minor": 4
}
