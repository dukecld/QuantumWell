{
 "cells": [
  {
   "cell_type": "markdown",
   "metadata": {},
   "source": [
    "## Tutorial 0: Adding the Path to the src Directory\n",
    "\n",
    ">> Charlie Duke   \n",
    "November 2020\n",
    "\n",
    "This and all subsequent tutorial notebooks use modules in \n",
    "the QuantumWell/src directory.  importing any of these \n",
    "modules requires having the path to this src directory.\n",
    "\n",
    "The getPath.py module in the QuantumWell/Utilities directory \n",
    "adds this path to the sys.path list used by python in \n",
    "searching for modules for importing.\n",
    "\n",
    "The getPath.py module contains two functions\n",
    "* getPath\n",
    "* setPath\n",
    "\n",
    "This tutorial illustrates the use of these functions with two methods\n",
    "for adding the src path to sys.path.  The second method automates the\n",
    "first method and is used in all subsequent tutorials."
   ]
  },
  {
   "cell_type": "code",
   "execution_count": null,
   "metadata": {},
   "outputs": [],
   "source": [
    "import sys,os\n",
    "import copy\n",
    "\n",
    "# if you edit modules loaded in this code, you will have to restart \n",
    "# the kernel unless you include the following two lines \n",
    "%load_ext autoreload\n",
    "%autoreload 2"
   ]
  },
  {
   "cell_type": "code",
   "execution_count": null,
   "metadata": {},
   "outputs": [],
   "source": [
    "# print sys.path and you'll see there is no path to the\n",
    "# QuantumWell directory\n",
    "for pth in sys.path:\n",
    "    print(pth)"
   ]
  },
  {
   "cell_type": "code",
   "execution_count": null,
   "metadata": {},
   "outputs": [],
   "source": [
    "# Method 1 for adding path\n",
    "from getPath import getPath\n",
    "\n",
    "# save the original path list\n",
    "pathListOriginal = copy.deepcopy(sys.path)\n",
    "\n",
    "# The getPath function finds the path to the QuantumWell directory in the \n",
    "# qwconfig/config file and adds the src directory.  It returns a tuple\n",
    "pathtuple = getPath()\n",
    "\n",
    "# print each element of the tuple\n",
    "print(pathtuple[0])\n",
    "print(pathtuple[1])\n"
   ]
  },
  {
   "cell_type": "code",
   "execution_count": null,
   "metadata": {},
   "outputs": [],
   "source": [
    "# insert the src path into sys.path list.\n",
    "sys.path.insert(0,pathtuple[1])"
   ]
  },
  {
   "cell_type": "code",
   "execution_count": null,
   "metadata": {},
   "outputs": [],
   "source": [
    "print(\"   original path list\\n\")\n",
    "for pth in pathListOriginal:\n",
    "    print(pth)\n",
    "print('\\n')\n",
    "print(\"   new path list\\n\")\n",
    "for pth in sys.path:\n",
    "    print(pth)\n",
    "print('\\n')"
   ]
  },
  {
   "cell_type": "code",
   "execution_count": null,
   "metadata": {},
   "outputs": [],
   "source": [
    "# Method 2 for adding the path to src directory\n",
    "\n",
    "# use the setPath function to do the list insertion\n",
    "\n",
    "from getPath import setPath\n",
    "\n",
    "# make the insertion with setPath and print the edited path list\n",
    "setPath(sys.path)\n",
    "\n",
    "for pth in sys.path:\n",
    "    print(pth)"
   ]
  },
  {
   "cell_type": "code",
   "execution_count": null,
   "metadata": {},
   "outputs": [],
   "source": [
    "# as an example,\n",
    "# python will look for the DataPotentialWell module in the \n",
    "# folders shown in sys.path. The module is in the src directory\n",
    "from DataPotentialWell import *"
   ]
  },
  {
   "cell_type": "code",
   "execution_count": null,
   "metadata": {},
   "outputs": [],
   "source": [
    "# Create an instance of DataPotentialWell \n",
    "dpw1 = DataPotentialWell()"
   ]
  },
  {
   "cell_type": "code",
   "execution_count": null,
   "metadata": {},
   "outputs": [],
   "source": [
    "# you are now ready for tutorial1!!!  "
   ]
  }
 ],
 "metadata": {
  "kernelspec": {
   "display_name": "Python 3",
   "language": "python",
   "name": "python3"
  },
  "language_info": {
   "codemirror_mode": {
    "name": "ipython",
    "version": 3
   },
   "file_extension": ".py",
   "mimetype": "text/x-python",
   "name": "python",
   "nbconvert_exporter": "python",
   "pygments_lexer": "ipython3",
   "version": "3.8.3"
  }
 },
 "nbformat": 4,
 "nbformat_minor": 4
}
