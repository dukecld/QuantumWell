{
 "cells": [
  {
   "cell_type": "code",
   "execution_count": null,
   "metadata": {},
   "outputs": [],
   "source": [
    "import sys\n",
    "import pathlib\n",
    "from pathlib import Path\n",
    "%load_ext autoreload\n",
    "\n",
    "%autoreload 2"
   ]
  },
  {
   "cell_type": "code",
   "execution_count": null,
   "metadata": {},
   "outputs": [],
   "source": [
    "def setPath(path=sys.path,filename='config',varname='path',subdir='src'):\n",
    "    \"\"\"appends to sys path from config file in ~/qwConfig directory\n",
    "\n",
    "    path: \n",
    "    \"\"\"\n",
    "    \n",
    "    configP = Path.home() / 'qwConfig' / 'config'\n",
    "\n",
    "    with open(configP, mode='r') as fid:\n",
    "        pathL = [line.strip() for line in fid if\n",
    "        line.startswith('path')]\n",
    "    if len(pathL) != 1:\n",
    "        print('no path value found in config file')\n",
    "        print('no addition to sys.path , returning')\n",
    "        return None\n",
    "    \n",
    "    pathS = str(pathL[0])\n",
    "    tmp,pathQ = pathS.split('=')\n",
    "    pathQ = pathQ.strip()\n",
    "\n",
    "    return pathQ\n",
    "\n"
   ]
  },
  {
   "cell_type": "code",
   "execution_count": null,
   "metadata": {},
   "outputs": [],
   "source": [
    "sysPathOld = sys.path[:]\n",
    "print('sysPathOld ',sysPathOld)"
   ]
  },
  {
   "cell_type": "code",
   "execution_count": null,
   "metadata": {},
   "outputs": [],
   "source": [
    "sys.path.insert(0,setPath(sys.path))"
   ]
  },
  {
   "cell_type": "code",
   "execution_count": null,
   "metadata": {},
   "outputs": [],
   "source": [
    "sysPathOld"
   ]
  },
  {
   "cell_type": "code",
   "execution_count": null,
   "metadata": {},
   "outputs": [],
   "source": [
    "sys.path\n"
   ]
  },
  {
   "cell_type": "code",
   "execution_count": null,
   "metadata": {},
   "outputs": [],
   "source": [
    "sys.path = sysPathOld[:]\n",
    "sys.path"
   ]
  },
  {
   "cell_type": "code",
   "execution_count": null,
   "metadata": {},
   "outputs": [],
   "source": []
  }
 ],
 "metadata": {
  "kernelspec": {
   "display_name": "Python 3",
   "language": "python",
   "name": "python3"
  },
  "language_info": {
   "codemirror_mode": {
    "name": "ipython",
    "version": 3
   },
   "file_extension": ".py",
   "mimetype": "text/x-python",
   "name": "python",
   "nbconvert_exporter": "python",
   "pygments_lexer": "ipython3",
   "version": "3.8.3"
  }
 },
 "nbformat": 4,
 "nbformat_minor": 4
}
