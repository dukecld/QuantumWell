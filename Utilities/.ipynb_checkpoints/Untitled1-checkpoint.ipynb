{
 "cells": [
  {
   "cell_type": "markdown",
   "metadata": {},
   "source": [
    "### pathlib examples"
   ]
  },
  {
   "cell_type": "code",
   "execution_count": 76,
   "metadata": {},
   "outputs": [
    {
     "name": "stdout",
     "output_type": "stream",
     "text": [
      "cwd  /Users/charlesduke/Repositories/PotentialWell/Utilities\n",
      "qpwDir PotentialWell\n",
      "homeP  /Users/charlesduke\n",
      "/Users/charlesduke/Repositories/PotentialWell\n"
     ]
    }
   ],
   "source": [
    "import pathlib\n",
    "import sys\n",
    "import os\n",
    "from pathlib import Path\n",
    "\n",
    "# qpw directory name\n",
    "qpwDir = 'PotentialWell'\n",
    "\n",
    "# current working directory\n",
    "cwdP = Path.cwd()\n",
    "qpwPath = Path()\n",
    "print('cwd ',cwdP)\n",
    "print('qpwDir',qpwDir)\n",
    "\n",
    "# home directory\n",
    "homeP = Path.home()\n",
    "print('homeP ',homeP)\n",
    "\n",
    "# tests\n",
    "if cwdP.parent.name == qpwDir:\n",
    "    qpwPath = cwdP.parent\n",
    "elif cwdP.name == qpwDir:\n",
    "    qpwPath = cwdP\n",
    "elif (cwdP / qpwDir).is_dir():\n",
    "    epwPath = (cwdP / qpwDir)\n",
    "    \n",
    "    \n",
    "print(qpwPath)"
   ]
  },
  {
   "cell_type": "code",
   "execution_count": 1,
   "metadata": {},
   "outputs": [],
   "source": [
    "import pathlib\n",
    "import sys\n",
    "import os\n",
    "from pathlib import Path"
   ]
  },
  {
   "cell_type": "code",
   "execution_count": 4,
   "metadata": {},
   "outputs": [
    {
     "data": {
      "text/plain": [
       "True"
      ]
     },
     "execution_count": 4,
     "metadata": {},
     "output_type": "execute_result"
    }
   ],
   "source": [
    "path = Path.home()\n",
    "isinstance(path,pathlib.PurePath)"
   ]
  },
  {
   "cell_type": "code",
   "execution_count": null,
   "metadata": {},
   "outputs": [],
   "source": []
  }
 ],
 "metadata": {
  "kernelspec": {
   "display_name": "Python 3",
   "language": "python",
   "name": "python3"
  },
  "language_info": {
   "codemirror_mode": {
    "name": "ipython",
    "version": 3
   },
   "file_extension": ".py",
   "mimetype": "text/x-python",
   "name": "python",
   "nbconvert_exporter": "python",
   "pygments_lexer": "ipython3",
   "version": "3.8.3"
  }
 },
 "nbformat": 4,
 "nbformat_minor": 4
}
