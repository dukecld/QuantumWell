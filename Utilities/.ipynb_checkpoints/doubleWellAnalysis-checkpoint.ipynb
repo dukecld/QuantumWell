{
 "cells": [
  {
   "cell_type": "markdown",
   "metadata": {},
   "source": [
    "### Wavefunction Analysis\n",
    ">> Emily Griffin '17 and Androniki Mitrou '17  \n",
    ">> Grinnell College  \n",
    ">> May 2015  \n",
    "\n",
    "> This notebook includes an animation over time of the composite wavefunction from the first two stationary states of a potential well with a single internal potential barrier.  The potential well details and the stationary state wavefunctions were previously created using the potential-well solver with the results stored in a .dpw file."
   ]
  },
  {
   "cell_type": "markdown",
   "metadata": {},
   "source": [
    " \n",
    "*  Read stationary state wavefunctions produced by the potential-well solver\n",
    "*  Verify Normalization\n",
    "*  Calculate expectation values, such as $<x>$\n",
    "*  Create composite wavefunctions and normalize\n",
    "*  Track the composite wavefunction over time with an animation\n",
    "\n"
   ]
  },
  {
   "cell_type": "code",
   "execution_count": 1,
   "metadata": {
    "slideshow": {
     "slide_type": "slide"
    }
   },
   "outputs": [
    {
     "name": "stdout",
     "output_type": "stream",
     "text": [
      "Using matplotlib backend: Qt5Agg\n",
      "Populating the interactive namespace from numpy and matplotlib\n"
     ]
    }
   ],
   "source": [
    "%pylab \n"
   ]
  },
  {
   "cell_type": "markdown",
   "metadata": {},
   "source": [
    "### The DataPotentialWell Class from the Potential-Well Solver\n",
    "> This class contains all the well data used in the solver.  It also contains\n",
    "arrays containing the wavefunction, x bins, etc. from the stationary state \n",
    "selected by the plotPsi button in the findStationaryStates window.  The solver,\n",
    "if requested saves this class in a .dpw file (dpw for Data Potentail Well).  \n",
    "\n",
    "\n",
    "> In this notebook, we will first fill instances of the DataPotentialWell class\n",
    "from these files.  \n",
    "\n",
    "> The example used here is a double well with infinite edges and a  \n",
    "barrier of finite height centered in the well.  \n",
    "\n",
    "\n",
    "> To see the class attributes and methods, do a $dpw1.<tab>$ on the dpw1 class instance.\n",
    "The most important class methods are:\n",
    "* readDpwFile(\"filename\")\n",
    "* getXArray()\n",
    "* getPsiArray()\n",
    "* getPsiPrimeArray()\n",
    "* getVArray()\n",
    "* getPsiEnergy()\n",
    "* printData()"
   ]
  },
  {
   "cell_type": "markdown",
   "metadata": {},
   "source": [
    "> You can also ask the potential-well solver to read the dpw file.  \n",
    "The solver will then plot the potential well from the well  \n",
    "parameters contained in the dpw file.\n"
   ]
  },
  {
   "cell_type": "code",
   "execution_count": 2,
   "metadata": {
    "slideshow": {
     "slide_type": "subslide"
    }
   },
   "outputs": [
    {
     "data": {
      "text/plain": [
       "<DataPotentialWell.DataPotentialWell at 0x8cffdd8>"
      ]
     },
     "execution_count": 2,
     "metadata": {},
     "output_type": "execute_result"
    }
   ],
   "source": [
    "# import the class, you will have to copy the DataPotentialWell.py file from your solver directory\n",
    "# to this directory if it is not already present.\n",
    "# We'll copy the file to this directory\n",
    "!cp ../DataPotentialWell.py .\n",
    "from DataPotentialWell import *\n",
    "\n",
    "# create class instances and read the existing .dpw files which should be in \n",
    "#   this directory\n",
    "dpw1 = DataPotentialWell()\n",
    "dpw1.readDpwFile(\"psi1.dpw\")\n",
    "\n",
    "dpw2 = DataPotentialWell()\n",
    "dpw2.readDpwFile(\"psi2.dpw\")\n"
   ]
  },
  {
   "cell_type": "code",
   "execution_count": 3,
   "metadata": {},
   "outputs": [
    {
     "name": "stdout",
     "output_type": "stream",
     "text": [
      "dpw1 PsiEnergy  6.9355646007\n",
      "dpw2 PsiEnergy  9.62651499355\n"
     ]
    }
   ],
   "source": [
    "# have a look at the energies of the two lowest stationary states, \n",
    "print(\"dpw1 PsiEnergy \",dpw1.getPsiEnergy())\n",
    "print(\"dpw2 PsiEnergy \",dpw2.getPsiEnergy())"
   ]
  },
  {
   "cell_type": "code",
   "execution_count": 4,
   "metadata": {},
   "outputs": [
    {
     "name": "stdout",
     "output_type": "stream",
     "text": [
      "    -- DataPotentialWell::printData\n",
      "       xmin, xmax, xlow, xhigh  0.0 0.4 -0.08 0.48\n",
      "       numX,  len(xMinMax), len(xMinHigh)  500 0 0\n",
      "       binW,   0.000801603206413\n",
      "       wellWidth, wellHeightLeft, wellHeightRight  0.4 inf inf\n",
      "       vmax set in Plotter, fractRt, fractLf  0.0 0.2 0.2\n",
      "       k2  26.246843534526526\n",
      "       AddedVCt  1\n",
      "       AddedVDict  {1: 1}\n",
      "       AddedV array \n",
      "[ 0.    0.18  0.    0.    0.  ]\n",
      "[  0.18   0.22  40.     0.     0.  ]\n",
      "[ 0.22  0.4   0.    0.    0.  ]\n",
      "         table of stationary states\n",
      "           1 6.9355646007\n",
      "           2 9.62651499355\n",
      "           3 28.4860303321\n",
      "           4 38.4672697012\n",
      "psiArray.shape  (500, 4)\n",
      "self.statStateNumber  1\n",
      "self.psiEnergy  6.9355646007\n"
     ]
    }
   ],
   "source": [
    "# print the well data for dpw1 or dpw2, \n",
    "dpw1.printData()\n",
    "# dpw2.printData()"
   ]
  },
  {
   "cell_type": "code",
   "execution_count": 5,
   "metadata": {
    "slideshow": {
     "slide_type": "slide"
    }
   },
   "outputs": [
    {
     "name": "stdout",
     "output_type": "stream",
     "text": [
      "x.shape  (500,)\n",
      "delX  0.000801603206413  nm\n"
     ]
    }
   ],
   "source": [
    "# get the x, psi, and psiPrime arrays from the data class instances\n",
    "#   psiPrime is the first-derivative of psi\n",
    "x = dpw1.getXArray()\n",
    "print(\"x.shape \",x.shape)\n",
    "ind = 10\n",
    "\n",
    "# get the distance between x bin edges\n",
    "delX = dpw1.getXBinWidth()\n",
    "print(\"delX \",delX,\" nm\")\n",
    "\n",
    "# get the psi and psiPrime arrays, they should be properly normalized\n",
    "psi1N = dpw1.getPsiArrayNormalized()\n",
    "#psi1Prime = dpw1.getPsiPrimeArray()\n",
    "psi2N = dpw2.getPsiArrayNormalized()\n",
    "#psi2Prime = dpw2.getPsiPrimeArray()\n"
   ]
  },
  {
   "cell_type": "code",
   "execution_count": 6,
   "metadata": {},
   "outputs": [
    {
     "name": "stdout",
     "output_type": "stream",
     "text": [
      "energy for state1 and state2  6.9355646007 9.62651499355\n"
     ]
    }
   ],
   "source": [
    "# here are the stationary state energies for the two states\n",
    "#   the energies associated with the psi wavefunction\n",
    "e1 = dpw1.getPsiEnergy()\n",
    "e2 = dpw2.getPsiEnergy()\n",
    "print(\"energy for state1 and state2 \",e1,e2)"
   ]
  },
  {
   "cell_type": "code",
   "execution_count": 7,
   "metadata": {},
   "outputs": [
    {
     "name": "stdout",
     "output_type": "stream",
     "text": [
      "sum(psi*psi)*delX 1.0 1.0\n"
     ]
    }
   ],
   "source": [
    "# check normalization\n",
    "n1 = sum(psi1N*psi1N)*delX\n",
    "n2 = sum(psi2N*psi2N)*delX\n",
    "print(\"sum(psi*psi)*delX\",n1,n2)"
   ]
  },
  {
   "cell_type": "code",
   "execution_count": 8,
   "metadata": {
    "collapsed": true,
    "slideshow": {
     "slide_type": "slide"
    }
   },
   "outputs": [],
   "source": [
    "# have a look at psi1N and psi2N (psi1N is red)\n",
    "close()\n",
    "plot(x,psi1N,'r')\n",
    "plot(x,psi2N,'b')\n",
    "grid()\n",
    "None\n"
   ]
  },
  {
   "cell_type": "code",
   "execution_count": 9,
   "metadata": {
    "collapsed": true,
    "slideshow": {
     "slide_type": "slide"
    }
   },
   "outputs": [],
   "source": [
    "# have a look at the probability distributions\n",
    "plot(x,psi1N*psi1N,'r')\n",
    "plot(x,psi2N*psi2N,'b')\n",
    "grid()\n",
    "None\n"
   ]
  },
  {
   "cell_type": "code",
   "execution_count": 10,
   "metadata": {
    "slideshow": {
     "slide_type": "skip"
    }
   },
   "outputs": [
    {
     "name": "stdout",
     "output_type": "stream",
     "text": [
      "sum(psi1N*psi2N)*delX  0.000692607166681\n"
     ]
    }
   ],
   "source": [
    "# are psi1N and psi2N orthogonal\n",
    "print(\"sum(psi1N*psi2N)*delX \",sum(psi1N*psi2N)*delX)\n"
   ]
  },
  {
   "cell_type": "code",
   "execution_count": 11,
   "metadata": {
    "slideshow": {
     "slide_type": "slide"
    }
   },
   "outputs": [
    {
     "name": "stdout",
     "output_type": "stream",
     "text": [
      "expect1X  0.199887840185\n",
      "expect2X  0.199984482414\n"
     ]
    }
   ],
   "source": [
    "# what is the expectation value of x\n",
    "\n",
    "expect1X = sum(psi1N*x*psi1N)*delX\n",
    "print(\"expect1X \",expect1X)\n",
    "\n",
    "expect2X = sum(psi2N*  x  *psi2N)*delX\n",
    "print(\"expect2X \",expect2X)\n"
   ]
  },
  {
   "cell_type": "code",
   "execution_count": 12,
   "metadata": {
    "slideshow": {
     "slide_type": "subslide"
    }
   },
   "outputs": [
    {
     "name": "stdout",
     "output_type": "stream",
     "text": [
      "stdDev1X  0.0940218869067\n",
      "stdDev2X  0.107286026924\n"
     ]
    }
   ],
   "source": [
    "# standard deviations in x for psi1\n",
    "stdDev1X = sum(psi1N*(    (x-expect1X)**2)   *psi1N)*delX\n",
    "print(\"stdDev1X \",sqrt(stdDev1X))\n",
    "\n",
    "# standard deviations in x for psi2\n",
    "stdDev2X = sum(psi2N*(    (x-expect2X)**2)   *psi2N)*delX\n",
    "print(\"stdDev2X \",sqrt(stdDev2X))\n"
   ]
  },
  {
   "cell_type": "code",
   "execution_count": 13,
   "metadata": {
    "scrolled": true,
    "slideshow": {
     "slide_type": "slide"
    }
   },
   "outputs": [
    {
     "name": "stdout",
     "output_type": "stream",
     "text": [
      "psiSum normalized  1.00069260717\n",
      "psiDiff normalized  0.999307392833\n"
     ]
    }
   ],
   "source": [
    "# form normalized sum and difference of psi1 and psi2, \n",
    "# psiSum and psiDiff should be normalized\n",
    "psiSum = (1/sqrt(2.))*(psi1N + psi2N)\n",
    "psiDiff = (1/sqrt(2.0))*(psi1N - psi2N)\n",
    "\n",
    "# verify normalization\n",
    "print (\"psiSum normalized \",sum(psiSum*psiSum)*delX )\n",
    "print(\"psiDiff normalized \",sum(psiDiff*psiDiff)*delX )\n"
   ]
  },
  {
   "cell_type": "code",
   "execution_count": 14,
   "metadata": {
    "collapsed": true,
    "slideshow": {
     "slide_type": "slide"
    }
   },
   "outputs": [],
   "source": [
    "# have a look at psiSum and psiDiff\n",
    "\n",
    "plot(x,psiSum,'r')\n",
    "plot(x,psiDiff,'b')\n",
    "grid()\n",
    "None\n"
   ]
  },
  {
   "cell_type": "code",
   "execution_count": 15,
   "metadata": {
    "slideshow": {
     "slide_type": "slide"
    }
   },
   "outputs": [
    {
     "name": "stdout",
     "output_type": "stream",
     "text": [
      "7.40445335862e-17\n"
     ]
    }
   ],
   "source": [
    "# are psiSum and psiDiff orthogonal\n",
    "print( sum(  psiSum*psiDiff)*delX  )\n"
   ]
  },
  {
   "cell_type": "code",
   "execution_count": 16,
   "metadata": {},
   "outputs": [
    {
     "name": "stdout",
     "output_type": "stream",
     "text": [
      "<x> for psiSum 0.108620453313\n",
      "<x> for psiDiff 0.291251869286\n"
     ]
    }
   ],
   "source": [
    "# have a look at the expectation value of x\n",
    "print( \"<x> for psiSum\",sum( psiSum*x*psiSum)* delX )\n",
    "print( \"<x> for psiDiff\",sum( psiDiff*x*psiDiff)*delX)"
   ]
  },
  {
   "cell_type": "code",
   "execution_count": 17,
   "metadata": {
    "collapsed": true,
    "slideshow": {
     "slide_type": "skip"
    }
   },
   "outputs": [],
   "source": [
    "# let psi evolve with time\n",
    "# set period to 1.0 for convenience and plot probability every 1/8th period\n",
    "\n",
    "time = linspace(0,1,10)\n"
   ]
  },
  {
   "cell_type": "code",
   "execution_count": 18,
   "metadata": {
    "scrolled": true,
    "slideshow": {
     "slide_type": "skip"
    }
   },
   "outputs": [
    {
     "name": "stdout",
     "output_type": "stream",
     "text": [
      "0.0 (1+0j)\n",
      "0.111111111111 (0.766044443119+0.642787609687j)\n",
      "0.222222222222 (0.173648177667+0.984807753012j)\n",
      "0.333333333333 (-0.5+0.866025403784j)\n",
      "0.444444444444 (-0.939692620786+0.342020143326j)\n",
      "0.555555555556 (-0.939692620786-0.342020143326j)\n",
      "0.666666666667 (-0.5-0.866025403784j)\n",
      "0.777777777778 (0.173648177667-0.984807753012j)\n",
      "0.888888888889 (0.766044443119-0.642787609687j)\n",
      "1.0 (1-2.44929359829e-16j)\n"
     ]
    }
   ],
   "source": [
    "close()\n",
    "for t in time:\n",
    "\n",
    "    t1 = t*2.0*pi\n",
    "    print(t,exp(t1*1j))\n",
    "    psi = (1/sqrt(2.0))*(psi1N + psi2N*exp(t1*1j))\n",
    "\n",
    "    prob = np.conj(psi) * psi\n",
    "    plot(x,real(prob))\n",
    "    \n",
    "grid()    "
   ]
  },
  {
   "cell_type": "code",
   "execution_count": 19,
   "metadata": {
    "collapsed": true,
    "slideshow": {
     "slide_type": "skip"
    }
   },
   "outputs": [],
   "source": [
    "import scipy.constants"
   ]
  },
  {
   "cell_type": "code",
   "execution_count": 20,
   "metadata": {
    "collapsed": true,
    "slideshow": {
     "slide_type": "skip"
    }
   },
   "outputs": [],
   "source": [
    "# you can get constants from the scipy module\n",
    "#heVSec = scipy.constants.value(\"Planck constant in eV s\")\n",
    "#heVnSec = heVSec*1.0e9\n",
    "#print(\"Planck's constant in eV-nSec \",heVnSec)"
   ]
  },
  {
   "cell_type": "markdown",
   "metadata": {
    "slideshow": {
     "slide_type": "skip"
    }
   },
   "source": [
    "##  Animate the Composite Wave Function over Time\n",
    "> Animation only works for non-inline plots\n",
    "> Have a look at this link for more animation detail\n",
    "https://jakevdp.github.io/blog/2012/08/18/matplotlib-animation-tutorial/   \n",
    "> I downloaded the examples from this link into the Examples directory.  \n",
    "The Schrodinger equation example does not work on osx; it may on windows   \n",
    "and there may be a more recent version on GitHub.\n"
   ]
  },
  {
   "cell_type": "code",
   "execution_count": 21,
   "metadata": {
    "collapsed": true,
    "slideshow": {
     "slide_type": "skip"
    }
   },
   "outputs": [],
   "source": [
    "# switch to non-inline plotting, have to to this for osx and maybe for windows\n",
    "# import animation module from matplotlib\n",
    "#%pylab \n",
    "from matplotlib import animation\n",
    "\n",
    "close()\n",
    "# set axis limits, xlim1 and ylim1. Get values from dpw1 or dpw2\n",
    "# x axis starts below xmin and extends above xmax\n",
    "xlim1 = (dpw1.xmin - 0.05, dpw1.xmax + 0.05)\n",
    "\n",
    "# might as well do multiples of 10.0 for yaxis maximum\n",
    "# get maximum of probability density (we're plotting the prob.den.)\n",
    "tmpM = max(psiSum*psiSum)\n",
    "ym = int(tmpM/10.0 + 1) * 10.0\n",
    "\n",
    "# set yaxis limits\n",
    "ylim1 = (0.0,ym)\n",
    "\n",
    "# open a figure, get the axes reference and the line reference\n",
    "#   that will change from plot to plot in the animation\n",
    "fig=figure()\n",
    "ax= axes(xlim=xlim1, ylim=ylim1)\n",
    "line,=ax.plot([],[], lw=2)\n",
    "\n",
    "# turn the grid on\n",
    "grid()\n",
    "\n",
    "#  outline the single barrier with vertical red lines\n",
    "#  get xmin and xmax (the limits of the deq solution from barriers array\n",
    "#  look at the previous printdata sceen output to see the barriers array\n",
    "barrierXmin = dpw1.barriers[1,0]\n",
    "barrierXmax = dpw1.barriers[1,1]\n",
    "plot([barrierXmin, barrierXmin],[0.0 ,10.0],'r')\n",
    "plot([barrierXmax, barrierXmax],[0.0,10.0],'r')\n",
    "\n",
    "# outline the well edges with red lines\n",
    "wellXmin = dpw1.xmin\n",
    "wellXmax = dpw1.xmax \n",
    "plot([wellXmin,wellXmin],[0.0,ym],'r')\n",
    "plot([wellXmax,wellXmax],[0.0,ym],'r')\n",
    "\n",
    "# FuncAnimation requires an initialization function.  This just\n",
    "# lets FuncAnimation know that this line reference is the one to use\n",
    "# The function does no plotting since set_data is empty.\n",
    "def init():\n",
    "    line.set_data([], [])\n",
    "    return line,\n",
    "\n",
    "# function used in the FuncAnimation\n",
    "def animate(t):\n",
    "    # period is 1.0, so multiply t by 2*pi\n",
    "    t1 = t*2.0*pi\n",
    "    psi = (1/sqrt(2.0))*(psi1N + psi2N*exp(t1*1j))\n",
    "    absPsi = np.absolute(psi)\n",
    "    # this makes the plot, by moving data into line's set_data\n",
    "    #   method\n",
    "    line.set_data(x,absPsi*absPsi)\n",
    "    return line\n",
    "\n",
    "# these are the times, 0.0 to 1.0, every 0.01 units\n",
    "num_plots = 100\n",
    "ts = linspace(0.0,1.0,num_plots)\n",
    "\n",
    "# time interval between plots in milliseconds\n",
    "ti = 10\n",
    "\n",
    "# for blit True, plot only changes from previous plot to speed up plot calls\n",
    "# blit must be False on osx (changing the backend will also work, but this is easier)\n",
    "# use non-inline plots for animation on osx\n",
    "\n",
    "anim= animation.FuncAnimation(fig, animate, init_func=init,frames=ts, interval=ti, blit=False)\n",
    "#plt.show()\n",
    "cfm = plt.get_current_fig_manager()\n",
    "cfm.window.activateWindow()\n",
    "cfm.window.raise_()\n",
    "\n",
    "#cfm.window.attributes('_topmost',True)\n"
   ]
  },
  {
   "cell_type": "code",
   "execution_count": null,
   "metadata": {
    "collapsed": true
   },
   "outputs": [],
   "source": [
    "\n"
   ]
  },
  {
   "cell_type": "code",
   "execution_count": null,
   "metadata": {
    "collapsed": true
   },
   "outputs": [],
   "source": []
  },
  {
   "cell_type": "code",
   "execution_count": null,
   "metadata": {
    "collapsed": true
   },
   "outputs": [],
   "source": []
  },
  {
   "cell_type": "code",
   "execution_count": null,
   "metadata": {
    "collapsed": true
   },
   "outputs": [],
   "source": []
  },
  {
   "cell_type": "code",
   "execution_count": null,
   "metadata": {
    "collapsed": true
   },
   "outputs": [],
   "source": []
  }
 ],
 "metadata": {
  "anaconda-cloud": {},
  "kernelspec": {
   "display_name": "Python 3",
   "language": "python",
   "name": "python3"
  },
  "language_info": {
   "codemirror_mode": {
    "name": "ipython",
    "version": 3
   },
   "file_extension": ".py",
   "mimetype": "text/x-python",
   "name": "python",
   "nbconvert_exporter": "python",
   "pygments_lexer": "ipython3",
   "version": "3.6.3"
  }
 },
 "nbformat": 4,
 "nbformat_minor": 1
}
