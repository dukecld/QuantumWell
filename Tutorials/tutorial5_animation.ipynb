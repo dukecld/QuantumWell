{
 "cells": [
  {
   "cell_type": "markdown",
   "metadata": {},
   "source": [
    "### Tutorial 5: Probability Distribution Time Animation\n",
    "\n",
    ">> Charlie Duke  \n",
    "Physics Department, Grinnell College   \n",
    "October 2020\n",
    "\n",
    "Revision of notebook developed by:  \n",
    ">> Emily Griffin '17 and Androniki Mitrou '17  \n",
    ">> Grinnell College \n",
    ">> May 2015  \n",
    "\n",
    "**Prerequisites: completion of `tutorial4_composite.ipynb` and read/write tutorials**   \n",
    "   \n",
    "This notebook illustrates composite wavefunctions created by summing stationary-state wavefunctions produced by the QuantumWell solver.  Specifically, it provides an animation over time of the composite wavefunction from the first two stationary states of a potential well with a single internal potential barrier.  \n",
    "\n",
    "The potential well details and the stationary state wavefunctions were previously created using the potential-well solver with the results stored in a .dpw file. After adding the time dependent function, the animated plot occurs in an external window, possibly hidden behind this window. If so, move this window to find it.\n",
    "\n",
    "You can use this notebook in any directory provided that you copy the `getPath.py` file\n",
    "as well `psi1.dpw` and `psi2.dpw` files to that directory  \n",
    "\n",
    "In this notebook we will:\n",
    "\n",
    "*  Read stationary state wavefunctions produced by the quantum potential-well solver\n",
    "*  Verify Normalization\n",
    "*  Create composite wavefunctions and check normalization\n",
    "*  Track the composite probability density over time with an animation\n"
   ]
  },
  {
   "cell_type": "code",
   "execution_count": null,
   "metadata": {},
   "outputs": [],
   "source": [
    "# if you want to see the details of this magic function, execute this cell\n",
    "#%pylab?\n"
   ]
  },
  {
   "cell_type": "code",
   "execution_count": null,
   "metadata": {},
   "outputs": [],
   "source": [
    "#%matplotlib ipympl\n",
    "#import matplotlib.pyplot as plt\n",
    "#import plt.get_current_fig_manager.show\n",
    "#import numpy as np\n",
    "#pi = np.pi\n",
    "#sqrt = np.sqrt\n",
    "%pylab \n",
    "plt.ion()\n",
    "\n",
    "import sys,os\n",
    "from matplotlib import animation\n",
    "\n",
    "%load_ext autoreload\n",
    "%autoreload 2"
   ]
  },
  {
   "cell_type": "code",
   "execution_count": null,
   "metadata": {},
   "outputs": [],
   "source": [
    "# We have to add the path to the src folder to sys.path\n",
    "# as in previous tutorials\n",
    "\n",
    "from getPath import setPath\n",
    "setPath(sys.path)\n",
    "\n",
    "# check out sys.path if you want\n",
    "# The first element should be the path to the src directory\n",
    "if True:\n",
    "    print(sys.path)\n"
   ]
  },
  {
   "cell_type": "code",
   "execution_count": null,
   "metadata": {},
   "outputs": [],
   "source": [
    "# your path is correctly set if this import is successful (no error message)\n",
    "from DataPotentialWell import *"
   ]
  },
  {
   "cell_type": "code",
   "execution_count": null,
   "metadata": {},
   "outputs": [],
   "source": [
    "# create class instances and read the existing .dpw files which should be in \n",
    "#   this directory\n",
    "# these are the wavefunction files from quantumWell.py\n",
    "filePsi1 = \"psi1.dpw\"\n",
    "filePsi2 = \"psi2.dpw\"\n",
    "\n",
    "dpw1 = DataPotentialWell()\n",
    "dpw1.readDpwFile(filePsi1)\n",
    "\n",
    "dpw2 = DataPotentialWell()\n",
    "dpw2.readDpwFile(filePsi2)\n",
    "\n",
    "# print well properties, change False to True\n",
    "if False:\n",
    "    # print the well data for dpw1 or dpw2, \n",
    "    print('dpw1 data  ')\n",
    "    dpw1.printData()\n",
    "    print('\\n')\n",
    "    print('dpw2 data')\n",
    "    dpw2.printData()\n",
    "    print('\\n')\n",
    "\n",
    "# get the x, psi, and psiPrime arrays from the data class instances\n",
    "#   psiPrime is the first-derivative of psi\n",
    "x = dpw1.getXArray()\n",
    "print(\"x.shape \",x.shape)\n",
    "#ind = 10\n",
    "\n",
    "# get the distance between x bin edges\n",
    "delX = dpw1.getXBinWidth()\n",
    "print(\"delX \",delX,\" nm\")\n",
    "\n",
    "# get the psi arrays, they should already be normalized\n",
    "psi1N = dpw1.getPsiArrayNormalized()\n",
    "psi2N = dpw2.getPsiArrayNormalized()\n",
    "\n",
    "# get the potential array\n",
    "vArray = dpw1.getVArray()\n",
    "\n",
    "# here are the stationary state energies for the two states\n",
    "#   the energies associated with the psi wavefunction\n",
    "e1 = dpw1.getPsiEnergy()\n",
    "e2 = dpw2.getPsiEnergy()\n",
    "print(\"energy for state1 and state2 \",e1,e2,)\n",
    "\n",
    "# check normalization\n",
    "n1 = sum(psi1N*psi1N)*delX\n",
    "n2 = sum(psi2N*psi2N)*delX\n",
    "print('check normalization')\n",
    "print(\"sum(psi*psi)*delX\",n1,n2)"
   ]
  },
  {
   "cell_type": "code",
   "execution_count": null,
   "metadata": {},
   "outputs": [],
   "source": [
    "vMax = vArray.max()\n",
    "wellWid = dpw1.getBasicWellProperties()[0]\n",
    "print('vMax ',vMax)"
   ]
  },
  {
   "cell_type": "code",
   "execution_count": null,
   "metadata": {},
   "outputs": [],
   "source": [
    "# check out the internal potential array as figure 1\n",
    "# all plots in this tutorial are interactive plots and in separate windows\n",
    "# they will not be inline plots!\n",
    "\n",
    "plt.figure(1)\n",
    "plt.plot(x,vArray,'g')\n",
    "plt.plot([0.0,0.0],[0.0,vMax],'g')\n",
    "plt.plot([wellWid,wellWid],[0.0,vMax],'g')\n",
    "plt.grid()"
   ]
  },
  {
   "cell_type": "code",
   "execution_count": null,
   "metadata": {},
   "outputs": [],
   "source": [
    "# close the figure if you produced a plot in previous cell.\n",
    "plt.close(1)\n"
   ]
  },
  {
   "cell_type": "code",
   "execution_count": null,
   "metadata": {},
   "outputs": [],
   "source": [
    "# These are the two probability distributions at t = 0 as figure 2\n",
    "if True:\n",
    "    plt.figure(2)\n",
    "    plt.plot(x,psi1N*psi1N,'r')\n",
    "    plt.plot(x,psi2N*psi2N,'b')\n",
    "    zoom = 0.2\n",
    "    plt.plot(x,vArray*zoom,'g')\n",
    "    plt.plot([0.0,0.0],[0.0,vMax*zoom],'g')\n",
    "    plt.plot([wellWid,wellWid],[0.0,vMax*zoom],'g')\n",
    "\n",
    "    plt.grid()\n"
   ]
  },
  {
   "cell_type": "code",
   "execution_count": null,
   "metadata": {},
   "outputs": [],
   "source": [
    "# close all figures, i.e. 1 and 2 if you wish\n",
    "plt.close('all')"
   ]
  },
  {
   "cell_type": "code",
   "execution_count": null,
   "metadata": {},
   "outputs": [],
   "source": [
    "# are psi1N and psi2N orthogonal, this is worth a check\n",
    "print(\"sum(psi1N*psi2N)*delX \",sum(psi1N*psi2N)*delX)"
   ]
  },
  {
   "cell_type": "code",
   "execution_count": null,
   "metadata": {},
   "outputs": [],
   "source": [
    "# form a composite psi to localize the electron in the left subwell\n",
    "\n",
    "# let psi evolve with time where the period is set to 1.0\n",
    "# for convenience and plot probability every 1/8th period"
   ]
  },
  {
   "cell_type": "code",
   "execution_count": null,
   "metadata": {},
   "outputs": [],
   "source": [
    "# have a look at the probability density of the composite wavefunction for a\n",
    "# given time between 0.0 and 1.0 seconds, type in various time ()\n",
    "# at least try time = 0.0, 0.25, 0.50, 0.75, and 1.0\n",
    "\n",
    "# closes previous graph, comment out to accumulate graphs on the same figure\n",
    "plt.close(plt.gcf().number)\n",
    "if True:\n",
    "    time = 0.0     # choose a time here\n",
    "\n",
    "    t1 = time*2.0*np.pi\n",
    "    \n",
    "    # this is the composite wavefunction (it's a complex number)\n",
    "    psi = (1/np.sqrt(2.0))*(psi1N + psi2N*np.exp(t1*1j))\n",
    "\n",
    "    prob = np.conj(psi) * psi\n",
    "    plt.plot(x,np.real(prob),'r')\n",
    "    plt.plot(x,vArray,'g')\n",
    "    plt.plot([0.0,0.0],[0.0,vMax],'g')\n",
    "    plt.plot([wellWid,wellWid],[0.0,vMax],'g')\n",
    "    \n",
    "    \n",
    "    plt.grid()\n",
    "    \n",
    "    "
   ]
  },
  {
   "cell_type": "code",
   "execution_count": null,
   "metadata": {},
   "outputs": [],
   "source": [
    "# you may find this useful later to find the oscillation frequency in Hz.\n",
    "import scipy.constants\n",
    "# help(scipy.constants)\n",
    "# scipy.constants.find('electron')\n",
    "if False:\n",
    "    for ss in scipy.constants.find(\"Planck\"):\n",
    "        print(ss)\n",
    "\n",
    "    # you can get constants from the value method once you have the find results \n",
    "    heVSec  = scipy.constants.value(\"reduced Planck constant in eV s\")\n",
    "    heVnSec = heVSec*1.0e9\n",
    "    print(\"\\nreduced Planck's constant in eV-nSec \",heVnSec)\n"
   ]
  },
  {
   "cell_type": "code",
   "execution_count": null,
   "metadata": {},
   "outputs": [],
   "source": [
    "# now ready to setup and execute the animation \n",
    "\n",
    "# set axis limits, xlim1 and ylim1. Get values from dpw1 or dpw2\n",
    "# x axis starts below xmin and extends above xmax\n",
    "xlim1 = (dpw1.xmin - 0.05, dpw1.xmax + 0.05)\n",
    "\n",
    "# might as well do multiples of 10.0 for yaxis maximum\n",
    "# get maximum of probability density (we're plotting the prob.den.)\n",
    "psiSum = psi1N + psi2N\n",
    "tmpM   = max(psiSum*psiSum)\n",
    "ym     = int(tmpM/10.0 + 1) * 10.0\n",
    "\n",
    "# set yaxis limits\n",
    "ylim1 = (0.0,ym)\n",
    "\n",
    "# open a figure, get the axes reference and the line reference\n",
    "#   that will change from plot to plot in the animation\n",
    "fig   = plt.figure()\n",
    "ax    = plt.axes(xlim=xlim1, ylim=ylim1)\n",
    "line, = ax.plot([],[], lw=2)\n",
    "\n",
    "# turn the grid on\n",
    "plt.grid()\n",
    "\n",
    "#  outline the single barrier with vertical red lines\n",
    "#  get xmin and xmax (the limits of the deq solution from barriers array\n",
    "#  look at the previous printdata screen output to see the barriers array\n",
    "# this only is for a single barrier well, otherwise have to loop thru barriers\n",
    "\n",
    "plt.plot(x,vArray,'r')\n",
    "# outline the well edges with red lines\n",
    "wellXmin = dpw1.xmin\n",
    "wellXmax = dpw1.xmax \n",
    "plt.plot([wellXmin,wellXmin],[0.0,ym],'r')\n",
    "plt.plot([wellXmax,wellXmax],[0.0,ym],'r')\n",
    "\n",
    "# FuncAnimation requires an initialization function.  This just\n",
    "# lets FuncAnimation know that this line reference is the one to use\n",
    "# The function does no plotting since set_data is empty.\n",
    "def init():\n",
    "    line.set_data([], [])\n",
    "    return line,\n",
    "\n",
    "# function used in the FuncAnimation\n",
    "def animate(t):\n",
    "    # period is 1.0, so multiply t by 2*pi\n",
    "    t1     = t*2.0*np.pi\n",
    "    psi    = (1/np.sqrt(2.0))*(psi1N + psi2N*np.exp(t1*1j))\n",
    "    absPsi = np.absolute(psi)\n",
    "    \n",
    "    # this makes the plot, by moving data into line's set_data\n",
    "    #   method\n",
    "    line.set_data(x,absPsi*absPsi)\n",
    "    \n",
    "    return line\n",
    "\n",
    "# these are the times, 0.0 to 1.0, every 0.01 units\n",
    "num_plots = 100\n",
    "ts = np.linspace(0.0,1.0,num_plots)\n",
    "\n",
    "# time interval between plots in milliseconds\n",
    "ti = 10\n",
    "\n",
    "# for blit True, plot only changes from previous plot to speed up plot calls\n",
    "# blit must be False on macOS (changing the backend will also work, but this is easier)\n",
    "# use non-inline plots for animation\n",
    "\n",
    "anim = animation.FuncAnimation(fig, animate, init_func=init,frames=ts, interval=ti, \n",
    "                               blit=False)"
   ]
  },
  {
   "cell_type": "code",
   "execution_count": null,
   "metadata": {},
   "outputs": [],
   "source": []
  },
  {
   "cell_type": "code",
   "execution_count": null,
   "metadata": {},
   "outputs": [],
   "source": []
  }
 ],
 "metadata": {
  "anaconda-cloud": {},
  "kernelspec": {
   "display_name": "Python 3 (ipykernel)",
   "language": "python",
   "name": "python3"
  },
  "language_info": {
   "codemirror_mode": {
    "name": "ipython",
    "version": 3
   },
   "file_extension": ".py",
   "mimetype": "text/x-python",
   "name": "python",
   "nbconvert_exporter": "python",
   "pygments_lexer": "ipython3",
   "version": "3.8.8"
  }
 },
 "nbformat": 4,
 "nbformat_minor": 4
}
