{
 "cells": [
  {
   "cell_type": "markdown",
   "metadata": {},
   "source": [
    "## Tutorial 1: Reading a Dpw File using the DataPotentialWell Module\n",
    "\n",
    ">> Charlie Duke  \n",
    "Physics Department, Grinnell College   \n",
    "October 2020\n",
    "\n",
    "The code in this tutorial will be used in all subsequent tutorials \n",
    "that use wavefunctions and/or stationary-state energies read from \n",
    "the DataPotentialWell module in the QuantumWell/src folder.\n",
    "\n",
    "You can copy this notebook to any folder of your choice provided you \n",
    "also copy the getPath.py and the dpw data files to that folder.  I'm \n",
    "assuming that you executed the config script as described in the \n",
    "QuantumWell/README file.  Otherwise, the getPath.py script will not \n",
    "have sufficient information to add the path to the QuantumWell/src \n",
    "folder.\n",
    "\n",
    "The code in this notebook illustrates:  \n",
    "*  Adding the path to QuantumWell/src to sys.path \n",
    "*  Creating an instance of the DataPotentialWell class\n",
    "*  Showing the document string for this class and its methods\n",
    "*  Reading an example dpw file and using a few of the DataPotentailWell methods   \n",
    "\n",
    "Use the tab key with cursor following dpw1. to see the list of attributes and methods of the DataPotentialWell class. You can select a method from the list with your cursor. Place your cursor\n",
    "on dpw1 and do a shift-tab to see the doc string of the \n",
    "dpw1 class.\n",
    "\n",
    "> $dpw1.<tab>$\n",
    "\n",
    "Use shift-tab to see the doc string and public methods for the class\n",
    "> $dpw1$ shift-tab with cursor on or after dpw1\n",
    "\n",
    "You can similarly see the doc string for a specific method  \n",
    "> $dpw1.method<shift-tab>$"
   ]
  },
  {
   "cell_type": "code",
   "execution_count": 1,
   "metadata": {},
   "outputs": [
    {
     "name": "stdout",
     "output_type": "stream",
     "text": [
      "Populating the interactive namespace from numpy and matplotlib\n"
     ]
    }
   ],
   "source": [
    "%pylab inline\n",
    "import sys,os\n",
    "\n",
    "# if you edit modules loaded in this code, you will have to restart \n",
    "# the kernel unless you include the following two lines \n",
    "%load_ext autoreload\n",
    "%autoreload 2"
   ]
  },
  {
   "cell_type": "code",
   "execution_count": 2,
   "metadata": {},
   "outputs": [
    {
     "name": "stdout",
     "output_type": "stream",
     "text": [
      "['/Users/charlesduke/Github/QuantumWell/src', '/Users/charlesduke/Github/QuantumWell/Tutorials', '/Users/charlesduke/Github/root/lib', '/Users/charlesduke/opt/anaconda3/lib/python38.zip', '/Users/charlesduke/opt/anaconda3/lib/python3.8', '/Users/charlesduke/opt/anaconda3/lib/python3.8/lib-dynload', '', '/Users/charlesduke/opt/anaconda3/lib/python3.8/site-packages', '/Users/charlesduke/opt/anaconda3/lib/python3.8/site-packages/aeosa', '/Users/charlesduke/opt/anaconda3/lib/python3.8/site-packages/IPython/extensions', '/Users/charlesduke/.ipython']\n"
     ]
    }
   ],
   "source": [
    "# We have to add the path to the src folder to sys.path\n",
    "# as in all our tutorials\n",
    "\n",
    "from getPath import setPath\n",
    "setPath(sys.path)\n",
    "\n",
    "# check out sys.path if you want\n",
    "# The first element should be the path to the src directory\n",
    "if True:\n",
    "    print(sys.path)\n"
   ]
  },
  {
   "cell_type": "code",
   "execution_count": 3,
   "metadata": {},
   "outputs": [],
   "source": [
    "# python will look for the DataPotentialWell module in the \n",
    "# folders shown in sys.path\n",
    "from DataPotentialWell import *"
   ]
  },
  {
   "cell_type": "code",
   "execution_count": 4,
   "metadata": {},
   "outputs": [],
   "source": [
    "# Create an instance of DataPotentialWell \n",
    "dpw1 = DataPotentialWell()"
   ]
  },
  {
   "cell_type": "code",
   "execution_count": 5,
   "metadata": {},
   "outputs": [
    {
     "name": "stdout",
     "output_type": "stream",
     "text": [
      "array shapes  (500,)   (500,) (500,)\n",
      "first and last values from xArray 0.0 0.4\n"
     ]
    }
   ],
   "source": [
    "# read your dpw file \n",
    "filename = 'psi1.dpw'\n",
    "dpw1.readDpwFile(filename)\n",
    "\n",
    "# Use the DataPotentialWell class methods to access the well data. \n",
    "# For example\n",
    "xArray = dpw1.getXArray()\n",
    "vArray = dpw1.getVArray()\n",
    "psiArray = dpw1.getPsiArray()\n",
    "print('array shapes ',xArray.shape,' ',psiArray.shape, vArray.shape)\n",
    "print('first and last values from xArray',xArray[0], xArray[-1])"
   ]
  },
  {
   "cell_type": "code",
   "execution_count": 7,
   "metadata": {},
   "outputs": [
    {
     "name": "stdout",
     "output_type": "stream",
     "text": [
      "    -- DataPotentialWell::printData\n",
      "       xmin, xmax, xlow, xhigh  0.0 0.4 -0.08000000000000002 0.48000000000000004\n",
      "       numX,  len(xMinMax), len(xMinHigh)  500 0 0\n",
      "       binW,   0.0008016032064128256\n",
      "       wellWidth, wellHeightLeft, wellHeightRight  0.4 inf inf\n",
      "       vmax set in Plotter, fractRt, fractLf  0.0 0.2 0.2\n",
      "       k2  26.246843534526526\n",
      "       AddedVCt  1\n",
      "       AddedVDict  {1: 1}\n",
      "       AddedV array \n",
      "[0.   0.18 0.   0.   0.  ]\n",
      "[ 0.18  0.22 40.    0.    0.  ]\n",
      "[0.22 0.4  0.   0.   0.  ]\n",
      "         table of stationary states\n",
      "           1 6.935564600702201\n",
      "           2 9.626514993545921\n",
      "           3 28.486030332066957\n",
      "           4 38.46726970118015\n",
      "psiArray.shape  (500, 4)\n",
      "self.statStateNumber  1\n",
      "self.psiEnergy  6.935564600702201\n"
     ]
    }
   ],
   "source": [
    "# can print well data to the screen (but not the large arrays)\n",
    "dpw1.printData()"
   ]
  },
  {
   "cell_type": "code",
   "execution_count": null,
   "metadata": {},
   "outputs": [],
   "source": [
    "# make an inline plot of psi vs x\n",
    "plt.plot(xArray,psiArray,'.')\n",
    "plt.grid()"
   ]
  },
  {
   "cell_type": "code",
   "execution_count": null,
   "metadata": {},
   "outputs": [],
   "source": [
    "# try out additional dpw1 methods\n",
    "# this will get list of methods and all doc strings.\n",
    "#help(dpw1)\n"
   ]
  },
  {
   "cell_type": "code",
   "execution_count": 9,
   "metadata": {},
   "outputs": [],
   "source": [
    "IndexWellEdges = dpw1.getXArrayIndexWellEdges()"
   ]
  },
  {
   "cell_type": "code",
   "execution_count": 10,
   "metadata": {},
   "outputs": [
    {
     "data": {
      "text/plain": [
       "array([  0, 499])"
      ]
     },
     "execution_count": 10,
     "metadata": {},
     "output_type": "execute_result"
    }
   ],
   "source": [
    "IndexWellEdges"
   ]
  },
  {
   "cell_type": "code",
   "execution_count": null,
   "metadata": {},
   "outputs": [],
   "source": [
    "low = 0\n",
    "high = 499\n",
    "print(len(xArray))\n",
    "for i in np.arange(low,high):\n",
    "    print(xArray[i],vArray[i])\n",
    "    "
   ]
  },
  {
   "cell_type": "code",
   "execution_count": 6,
   "metadata": {},
   "outputs": [],
   "source": [
    "#help(dpw1)"
   ]
  },
  {
   "cell_type": "code",
   "execution_count": 13,
   "metadata": {},
   "outputs": [],
   "source": [
    "v = dpw1.getPotentialList()"
   ]
  },
  {
   "cell_type": "code",
   "execution_count": 16,
   "metadata": {},
   "outputs": [
    {
     "data": {
      "text/plain": [
       "array([[ 0.  ,  0.18,  0.  ,  0.  ,  0.  ],\n",
       "       [ 0.18,  0.22, 40.  ,  0.  ,  0.  ],\n",
       "       [ 0.22,  0.4 ,  0.  ,  0.  ,  0.  ]])"
      ]
     },
     "execution_count": 16,
     "metadata": {},
     "output_type": "execute_result"
    }
   ],
   "source": [
    "v\n",
    "\n"
   ]
  },
  {
   "cell_type": "code",
   "execution_count": 17,
   "metadata": {},
   "outputs": [
    {
     "data": {
      "text/plain": [
       "array([0.18, 0.22, 0.4 ])"
      ]
     },
     "execution_count": 17,
     "metadata": {},
     "output_type": "execute_result"
    }
   ],
   "source": [
    "v[:,1]\n"
   ]
  },
  {
   "cell_type": "code",
   "execution_count": 42,
   "metadata": {},
   "outputs": [
    {
     "name": "stdout",
     "output_type": "stream",
     "text": [
      "0\n"
     ]
    }
   ],
   "source": [
    "x = 0.1\n",
    "if (x > 0.0) & (x < 0.4):\n",
    "    ind, = (np.where( x < v[:,1] ))\n",
    "    indx = ind[0]\n",
    "else:\n",
    "    indx = -1\n",
    "    \n",
    "print(indx)"
   ]
  },
  {
   "cell_type": "code",
   "execution_count": 7,
   "metadata": {},
   "outputs": [],
   "source": [
    "from SolvePotentialWell import SolvePotentialWell"
   ]
  },
  {
   "cell_type": "code",
   "execution_count": 8,
   "metadata": {},
   "outputs": [],
   "source": [
    "sw = SolvePotentialWell(dpw1)"
   ]
  },
  {
   "cell_type": "code",
   "execution_count": 10,
   "metadata": {},
   "outputs": [
    {
     "data": {
      "text/plain": [
       "40.0"
      ]
     },
     "execution_count": 10,
     "metadata": {},
     "output_type": "execute_result"
    }
   ],
   "source": [
    "sw.getV(0.2)"
   ]
  },
  {
   "cell_type": "code",
   "execution_count": null,
   "metadata": {},
   "outputs": [],
   "source": []
  }
 ],
 "metadata": {
  "kernelspec": {
   "display_name": "Python 3 (ipykernel)",
   "language": "python",
   "name": "python3"
  },
  "language_info": {
   "codemirror_mode": {
    "name": "ipython",
    "version": 3
   },
   "file_extension": ".py",
   "mimetype": "text/x-python",
   "name": "python",
   "nbconvert_exporter": "python",
   "pygments_lexer": "ipython3",
   "version": "3.8.3"
  }
 },
 "nbformat": 4,
 "nbformat_minor": 4
}
