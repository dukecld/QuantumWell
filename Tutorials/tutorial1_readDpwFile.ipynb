{
 "cells": [
  {
   "cell_type": "markdown",
   "metadata": {},
   "source": [
    "## Tutorial 1: Reading a Dpw File using the DataPotentialWell Module\n",
    "\n",
    ">> Charlie Duke  \n",
    "Physics Department, Grinnell College   \n",
    "October 2020\n",
    "\n",
    "The code in this tutorial will be used in all subsequent tutorials \n",
    "that use wavefunctions and/or stationary-state energies read from \n",
    "the DataPotentialWell module in the QuantumWell/src folder.\n",
    "\n",
    "You can copy this notebook to any folder of your choice provided you \n",
    "also copy the getPath.py and the dpw data files to that folder.  I'm \n",
    "assuming that you executed the config script as described in the \n",
    "QuantumWell/README file.  Otherwise, the getPath.py script will not \n",
    "have sufficient information to add the path to the QuantumWell/src \n",
    "folder.\n",
    "\n",
    "The code in this notebook illustrates:  \n",
    "*  Adding the path to QuantumWell/src to sys.path \n",
    "*  Creating an instance of the DataPotentialWell class\n",
    "*  Showing the document string for this class and its methods\n",
    "*  Reading an example dpw file and using a few of the DataPotentailWell methods   \n",
    "\n",
    "Use the tab key with cursor following dpw1. to see the list of attributes and methods of the DataPotentialWell class. You can select a method from the list with your cursor. Place your cursor\n",
    "on dpw1 and do a shift-tab to see the doc string of the \n",
    "dpw1 class.\n",
    "\n",
    "> $dpw1.<tab>$\n",
    "\n",
    "Use shift-tab to see the doc string and public methods for the class\n",
    "> $dpw1$ shift-tab with cursor on or after dpw1\n",
    "\n",
    "You can similarly see the doc string for a specific method  \n",
    "> $dpw1.method<shift-tab>$"
   ]
  },
  {
   "cell_type": "code",
   "execution_count": null,
   "metadata": {},
   "outputs": [],
   "source": [
    "%pylab inline\n",
    "import sys,os\n",
    "\n",
    "# if you edit modules loaded in this code, you will have to restart \n",
    "# the kernel unless you include the following two lines \n",
    "%load_ext autoreload\n",
    "%autoreload 2"
   ]
  },
  {
   "cell_type": "code",
   "execution_count": null,
   "metadata": {},
   "outputs": [],
   "source": [
    "# We have to add the path to the src folder to sys.path\n",
    "# as in all our tutorials\n",
    "\n",
    "from getPath import setPath\n",
    "setPath(sys.path)\n",
    "\n",
    "# check out sys.path if you want\n",
    "# The first element should be the path to the src directory\n",
    "if True:\n",
    "    print(sys.path)\n"
   ]
  },
  {
   "cell_type": "code",
   "execution_count": null,
   "metadata": {},
   "outputs": [],
   "source": [
    "# python will look for the DataPotentialWell module in the \n",
    "# folders shown in sys.path\n",
    "from DataPotentialWell import *"
   ]
  },
  {
   "cell_type": "code",
   "execution_count": null,
   "metadata": {},
   "outputs": [],
   "source": [
    "# Create an instance of DataPotentialWell \n",
    "dpw1 = DataPotentialWell()"
   ]
  },
  {
   "cell_type": "code",
   "execution_count": null,
   "metadata": {},
   "outputs": [],
   "source": [
    "# read your dpw file \n",
    "filename = 'psi1.dpw'\n",
    "dpw1.readDpwFile(filename)\n",
    "\n",
    "# Use the DataPotentialWell class methods to access the well data. \n",
    "# For example\n",
    "xArray = dpw1.getXArray()\n",
    "psiArray = dpw1.getPsiArray()\n",
    "print('array shapes ',xArray.shape,' ',psiArray.shape)"
   ]
  },
  {
   "cell_type": "code",
   "execution_count": null,
   "metadata": {},
   "outputs": [],
   "source": [
    "# can print well data to the screen (but not the large arrays)\n",
    "dpw1.printData()"
   ]
  },
  {
   "cell_type": "code",
   "execution_count": null,
   "metadata": {},
   "outputs": [],
   "source": [
    "# make an inline plot of psi vs x\n",
    "plt.plot(xArray,psiArray,'.')\n",
    "plt.grid()"
   ]
  },
  {
   "cell_type": "code",
   "execution_count": null,
   "metadata": {},
   "outputs": [],
   "source": [
    "# try out additional dpw1 methods, curser on or after dpw1 \n",
    "# then shift-tab to see doc string or tab \n",
    "# after dpw1. to get the list of methods.\n",
    "# shift-tab on or after the method gives its doc string\n",
    "dpw1\n"
   ]
  },
  {
   "cell_type": "code",
   "execution_count": null,
   "metadata": {},
   "outputs": [],
   "source": []
  }
 ],
 "metadata": {
  "kernelspec": {
   "display_name": "Python 3",
   "language": "python",
   "name": "python3"
  },
  "language_info": {
   "codemirror_mode": {
    "name": "ipython",
    "version": 3
   },
   "file_extension": ".py",
   "mimetype": "text/x-python",
   "name": "python",
   "nbconvert_exporter": "python",
   "pygments_lexer": "ipython3",
   "version": "3.8.3"
  }
 },
 "nbformat": 4,
 "nbformat_minor": 4
}
